{
  "nbformat": 4,
  "nbformat_minor": 0,
  "metadata": {
    "colab": {
      "name": "Lab_7.ipynb",
      "provenance": [],
      "collapsed_sections": [
        "61-BnYY5qJEz",
        "IzaMH-Ov1ukj"
      ],
      "authorship_tag": "ABX9TyPe85rN3UQtQ5yHzjAslJhP",
      "include_colab_link": true
    },
    "kernelspec": {
      "name": "python3",
      "display_name": "Python 3"
    },
    "accelerator": "GPU"
  },
  "cells": [
    {
      "cell_type": "markdown",
      "metadata": {
        "id": "view-in-github",
        "colab_type": "text"
      },
      "source": [
        "<a href=\"https://colab.research.google.com/github/dealbujav/CE888/blob/master/Lab_7.ipynb\" target=\"_parent\"><img src=\"https://colab.research.google.com/assets/colab-badge.svg\" alt=\"Open In Colab\"/></a>"
      ]
    },
    {
      "cell_type": "markdown",
      "metadata": {
        "id": "6NMviDYeuO7d",
        "colab_type": "text"
      },
      "source": [
        "##Part 1"
      ]
    },
    {
      "cell_type": "code",
      "metadata": {
        "id": "GyIrL8KJoB3S",
        "colab_type": "code",
        "outputId": "7b535418-5fbc-41b2-986c-e0ec261c7439",
        "colab": {
          "base_uri": "https://localhost:8080/",
          "height": 97
        }
      },
      "source": [
        "from keras import layers\n",
        "from keras import models"
      ],
      "execution_count": 0,
      "outputs": [
        {
          "output_type": "stream",
          "text": [
            "Using TensorFlow backend.\n"
          ],
          "name": "stderr"
        },
        {
          "output_type": "display_data",
          "data": {
            "text/html": [
              "<p style=\"color: red;\">\n",
              "The default version of TensorFlow in Colab will soon switch to TensorFlow 2.x.<br>\n",
              "We recommend you <a href=\"https://www.tensorflow.org/guide/migrate\" target=\"_blank\">upgrade</a> now \n",
              "or ensure your notebook will continue to use TensorFlow 1.x via the <code>%tensorflow_version 1.x</code> magic:\n",
              "<a href=\"https://colab.research.google.com/notebooks/tensorflow_version.ipynb\" target=\"_blank\">more info</a>.</p>\n"
            ],
            "text/plain": [
              "<IPython.core.display.HTML object>"
            ]
          },
          "metadata": {
            "tags": []
          }
        }
      ]
    },
    {
      "cell_type": "markdown",
      "metadata": {
        "id": "Egsn9ZEqoRRK",
        "colab_type": "text"
      },
      "source": [
        "\n",
        "Instantiating a small convnet"
      ]
    },
    {
      "cell_type": "code",
      "metadata": {
        "id": "mlmfoRk6oT9M",
        "colab_type": "code",
        "outputId": "a8c92451-ddc2-4656-b395-de4120704e62",
        "colab": {
          "base_uri": "https://localhost:8080/",
          "height": 479
        }
      },
      "source": [
        "model = models.Sequential()\n",
        "model.add(layers.Conv2D(32, (3, 3), activation='relu', input_shape=(28, 28, 1)))\n",
        "model.add(layers.MaxPooling2D((2, 2)))\n",
        "model.add(layers.Conv2D(64, (3, 3), activation='relu'))\n",
        "model.add(layers.MaxPooling2D((2, 2)))\n",
        "model.add(layers.Conv2D(64, (3, 3), activation='relu'))\n",
        "model.summary()"
      ],
      "execution_count": 0,
      "outputs": [
        {
          "output_type": "stream",
          "text": [
            "WARNING:tensorflow:From /usr/local/lib/python3.6/dist-packages/keras/backend/tensorflow_backend.py:66: The name tf.get_default_graph is deprecated. Please use tf.compat.v1.get_default_graph instead.\n",
            "\n",
            "WARNING:tensorflow:From /usr/local/lib/python3.6/dist-packages/keras/backend/tensorflow_backend.py:541: The name tf.placeholder is deprecated. Please use tf.compat.v1.placeholder instead.\n",
            "\n",
            "WARNING:tensorflow:From /usr/local/lib/python3.6/dist-packages/keras/backend/tensorflow_backend.py:4432: The name tf.random_uniform is deprecated. Please use tf.random.uniform instead.\n",
            "\n",
            "WARNING:tensorflow:From /usr/local/lib/python3.6/dist-packages/keras/backend/tensorflow_backend.py:4267: The name tf.nn.max_pool is deprecated. Please use tf.nn.max_pool2d instead.\n",
            "\n",
            "Model: \"sequential_1\"\n",
            "_________________________________________________________________\n",
            "Layer (type)                 Output Shape              Param #   \n",
            "=================================================================\n",
            "conv2d_1 (Conv2D)            (None, 26, 26, 32)        320       \n",
            "_________________________________________________________________\n",
            "max_pooling2d_1 (MaxPooling2 (None, 13, 13, 32)        0         \n",
            "_________________________________________________________________\n",
            "conv2d_2 (Conv2D)            (None, 11, 11, 64)        18496     \n",
            "_________________________________________________________________\n",
            "max_pooling2d_2 (MaxPooling2 (None, 5, 5, 64)          0         \n",
            "_________________________________________________________________\n",
            "conv2d_3 (Conv2D)            (None, 3, 3, 64)          36928     \n",
            "=================================================================\n",
            "Total params: 55,744\n",
            "Trainable params: 55,744\n",
            "Non-trainable params: 0\n",
            "_________________________________________________________________\n"
          ],
          "name": "stdout"
        }
      ]
    },
    {
      "cell_type": "markdown",
      "metadata": {
        "id": "1fuud9Kboh4X",
        "colab_type": "text"
      },
      "source": [
        "Adding a classifier on top of the convnet"
      ]
    },
    {
      "cell_type": "code",
      "metadata": {
        "id": "sgG0VB7Loize",
        "colab_type": "code",
        "outputId": "315b7d1a-cfc6-4b9c-9403-c7fcb17f3c45",
        "colab": {
          "base_uri": "https://localhost:8080/",
          "height": 425
        }
      },
      "source": [
        "model.add(layers.Flatten())\n",
        "model.add(layers.Dense(64, activation='relu'))\n",
        "model.add(layers.Dense(10, activation='softmax'))\n",
        "model.summary()"
      ],
      "execution_count": 0,
      "outputs": [
        {
          "output_type": "stream",
          "text": [
            "Model: \"sequential_1\"\n",
            "_________________________________________________________________\n",
            "Layer (type)                 Output Shape              Param #   \n",
            "=================================================================\n",
            "conv2d_1 (Conv2D)            (None, 26, 26, 32)        320       \n",
            "_________________________________________________________________\n",
            "max_pooling2d_1 (MaxPooling2 (None, 13, 13, 32)        0         \n",
            "_________________________________________________________________\n",
            "conv2d_2 (Conv2D)            (None, 11, 11, 64)        18496     \n",
            "_________________________________________________________________\n",
            "max_pooling2d_2 (MaxPooling2 (None, 5, 5, 64)          0         \n",
            "_________________________________________________________________\n",
            "conv2d_3 (Conv2D)            (None, 3, 3, 64)          36928     \n",
            "_________________________________________________________________\n",
            "flatten_1 (Flatten)          (None, 576)               0         \n",
            "_________________________________________________________________\n",
            "dense_1 (Dense)              (None, 64)                36928     \n",
            "_________________________________________________________________\n",
            "dense_2 (Dense)              (None, 10)                650       \n",
            "=================================================================\n",
            "Total params: 93,322\n",
            "Trainable params: 93,322\n",
            "Non-trainable params: 0\n",
            "_________________________________________________________________\n"
          ],
          "name": "stdout"
        }
      ]
    },
    {
      "cell_type": "markdown",
      "metadata": {
        "id": "66dNsbGZosOo",
        "colab_type": "text"
      },
      "source": [
        "###Training the convnet on MNIST images"
      ]
    },
    {
      "cell_type": "code",
      "metadata": {
        "id": "I7qtmfmfowkt",
        "colab_type": "code",
        "colab": {}
      },
      "source": [
        "from keras.datasets import mnist\n",
        "from keras.utils import to_categorical"
      ],
      "execution_count": 0,
      "outputs": []
    },
    {
      "cell_type": "markdown",
      "metadata": {
        "id": "WilmXfXAo4cS",
        "colab_type": "text"
      },
      "source": [
        "Load Data"
      ]
    },
    {
      "cell_type": "code",
      "metadata": {
        "id": "_5wWzJeAo7DO",
        "colab_type": "code",
        "outputId": "5692b207-047f-4676-d056-19a5078d58b4",
        "colab": {
          "base_uri": "https://localhost:8080/",
          "height": 51
        }
      },
      "source": [
        "(train_images, train_labels), (test_images, test_labels) = mnist.load_data()\n",
        "train_images = train_images.reshape((60000, 28, 28, 1))\n",
        "train_images = train_images.astype('float32') / 255\n",
        "test_images = test_images.reshape((10000, 28, 28, 1))\n",
        "test_images = test_images.astype('float32') / 255\n",
        "train_labels = to_categorical(train_labels)\n",
        "test_labels = to_categorical(test_labels)"
      ],
      "execution_count": 0,
      "outputs": [
        {
          "output_type": "stream",
          "text": [
            "Downloading data from https://s3.amazonaws.com/img-datasets/mnist.npz\n",
            "11493376/11490434 [==============================] - 1s 0us/step\n"
          ],
          "name": "stdout"
        }
      ]
    },
    {
      "cell_type": "markdown",
      "metadata": {
        "id": "aYM6YvnYpKW8",
        "colab_type": "text"
      },
      "source": [
        "compile and fit model"
      ]
    },
    {
      "cell_type": "code",
      "metadata": {
        "id": "XsWYC72wpLcY",
        "colab_type": "code",
        "outputId": "e3c016e8-146d-49f1-c0d3-3349c3714533",
        "colab": {
          "base_uri": "https://localhost:8080/",
          "height": 615
        }
      },
      "source": [
        "model.compile(optimizer='rmsprop', \n",
        "              loss='categorical_crossentropy',\n",
        "              metrics=['accuracy'])\n",
        "history = model.fit(train_images, train_labels, epochs=5, batch_size=64, validation_split=0.2)"
      ],
      "execution_count": 0,
      "outputs": [
        {
          "output_type": "stream",
          "text": [
            "WARNING:tensorflow:From /usr/local/lib/python3.6/dist-packages/keras/optimizers.py:793: The name tf.train.Optimizer is deprecated. Please use tf.compat.v1.train.Optimizer instead.\n",
            "\n",
            "WARNING:tensorflow:From /usr/local/lib/python3.6/dist-packages/keras/backend/tensorflow_backend.py:3576: The name tf.log is deprecated. Please use tf.math.log instead.\n",
            "\n",
            "WARNING:tensorflow:From /usr/local/lib/python3.6/dist-packages/tensorflow_core/python/ops/math_grad.py:1424: where (from tensorflow.python.ops.array_ops) is deprecated and will be removed in a future version.\n",
            "Instructions for updating:\n",
            "Use tf.where in 2.0, which has the same broadcast rule as np.where\n",
            "WARNING:tensorflow:From /usr/local/lib/python3.6/dist-packages/keras/backend/tensorflow_backend.py:1033: The name tf.assign_add is deprecated. Please use tf.compat.v1.assign_add instead.\n",
            "\n",
            "WARNING:tensorflow:From /usr/local/lib/python3.6/dist-packages/keras/backend/tensorflow_backend.py:1020: The name tf.assign is deprecated. Please use tf.compat.v1.assign instead.\n",
            "\n",
            "WARNING:tensorflow:From /usr/local/lib/python3.6/dist-packages/keras/backend/tensorflow_backend.py:3005: The name tf.Session is deprecated. Please use tf.compat.v1.Session instead.\n",
            "\n",
            "Train on 48000 samples, validate on 12000 samples\n",
            "Epoch 1/5\n",
            "WARNING:tensorflow:From /usr/local/lib/python3.6/dist-packages/keras/backend/tensorflow_backend.py:190: The name tf.get_default_session is deprecated. Please use tf.compat.v1.get_default_session instead.\n",
            "\n",
            "WARNING:tensorflow:From /usr/local/lib/python3.6/dist-packages/keras/backend/tensorflow_backend.py:197: The name tf.ConfigProto is deprecated. Please use tf.compat.v1.ConfigProto instead.\n",
            "\n",
            "WARNING:tensorflow:From /usr/local/lib/python3.6/dist-packages/keras/backend/tensorflow_backend.py:207: The name tf.global_variables is deprecated. Please use tf.compat.v1.global_variables instead.\n",
            "\n",
            "WARNING:tensorflow:From /usr/local/lib/python3.6/dist-packages/keras/backend/tensorflow_backend.py:216: The name tf.is_variable_initialized is deprecated. Please use tf.compat.v1.is_variable_initialized instead.\n",
            "\n",
            "WARNING:tensorflow:From /usr/local/lib/python3.6/dist-packages/keras/backend/tensorflow_backend.py:223: The name tf.variables_initializer is deprecated. Please use tf.compat.v1.variables_initializer instead.\n",
            "\n",
            "48000/48000 [==============================] - 46s 952us/step - loss: 0.3947 - acc: 0.9099 - val_loss: 0.1509 - val_acc: 0.9678\n",
            "Epoch 2/5\n",
            "48000/48000 [==============================] - 46s 954us/step - loss: 0.2110 - acc: 0.9656 - val_loss: 0.0966 - val_acc: 0.9768\n",
            "Epoch 3/5\n",
            "48000/48000 [==============================] - 46s 958us/step - loss: 0.0897 - acc: 0.9786 - val_loss: 0.1042 - val_acc: 0.9800\n",
            "Epoch 4/5\n",
            "48000/48000 [==============================] - 46s 964us/step - loss: 0.0880 - acc: 0.9822 - val_loss: 0.1079 - val_acc: 0.9800\n",
            "Epoch 5/5\n",
            "48000/48000 [==============================] - 46s 965us/step - loss: 0.0936 - acc: 0.9836 - val_loss: 0.1403 - val_acc: 0.9799\n"
          ],
          "name": "stdout"
        }
      ]
    },
    {
      "cell_type": "markdown",
      "metadata": {
        "id": "8jt9oq-ZpiNB",
        "colab_type": "text"
      },
      "source": [
        "evaluate model"
      ]
    },
    {
      "cell_type": "code",
      "metadata": {
        "id": "BTaglDORpja4",
        "colab_type": "code",
        "outputId": "fb250575-fa13-4620-aec3-e53bdd9b58d6",
        "colab": {
          "base_uri": "https://localhost:8080/",
          "height": 51
        }
      },
      "source": [
        "test_loss, test_acc = model.evaluate(test_images, test_labels)\n",
        "test_acc"
      ],
      "execution_count": 0,
      "outputs": [
        {
          "output_type": "stream",
          "text": [
            "10000/10000 [==============================] - 3s 315us/step\n"
          ],
          "name": "stdout"
        },
        {
          "output_type": "execute_result",
          "data": {
            "text/plain": [
              "0.9827"
            ]
          },
          "metadata": {
            "tags": []
          },
          "execution_count": 7
        }
      ]
    },
    {
      "cell_type": "code",
      "metadata": {
        "id": "0_NelgK5oQqN",
        "colab_type": "code",
        "outputId": "85ba86fb-56eb-48ba-c40f-26d69afb3842",
        "colab": {
          "base_uri": "https://localhost:8080/",
          "height": 545
        }
      },
      "source": [
        "import matplotlib.pyplot as plt\n",
        "\n",
        "acc = history.history['acc']\n",
        "val_acc = history.history['val_acc']\n",
        "loss = history.history['loss']\n",
        "val_loss = history.history['val_loss']\n",
        "\n",
        "epochs = range(1, len(acc) + 1)\n",
        "\n",
        "plt.plot(epochs, acc, 'bo', label='Training acc')\n",
        "plt.plot(epochs, val_acc, 'b', label='Validation acc')\n",
        "plt.title('Training and validation accuracy')\n",
        "plt.legend()\n",
        "\n",
        "plt.figure()\n",
        "\n",
        "plt.plot(epochs, loss, 'bo', label='Training loss')\n",
        "plt.plot(epochs, val_loss, 'b', label='Validation loss')\n",
        "plt.title('Training and validation loss')\n",
        "plt.legend()\n",
        "\n",
        "plt.show()"
      ],
      "execution_count": 0,
      "outputs": [
        {
          "output_type": "display_data",
          "data": {
            "image/png": "[encoded data removed]",
            "text/plain": [
              "<Figure size 432x288 with 1 Axes>"
            ]
          },
          "metadata": {
            "tags": []
          }
        },
        {
          "output_type": "display_data",
          "data": {
            "image/png": "[encoded data removed]",
            "text/plain": [
              "<Figure size 432x288 with 1 Axes>"
            ]
          },
          "metadata": {
            "tags": []
          }
        }
      ]
    },
    {
      "cell_type": "markdown",
      "metadata": {
        "id": "61-BnYY5qJEz",
        "colab_type": "text"
      },
      "source": [
        "\n",
        "###Exercise 1:"
      ]
    },
    {
      "cell_type": "markdown",
      "metadata": {
        "id": "4BHFhsaQqOY9",
        "colab_type": "text"
      },
      "source": [
        "Change the activation function and other parameters such as optimizer to see the effect on the network and it's performance.\n"
      ]
    },
    {
      "cell_type": "code",
      "metadata": {
        "id": "VIH_OmvfqR4j",
        "colab_type": "code",
        "outputId": "20c7a60c-a6d5-4b9f-e6e2-307b2132c2bc",
        "colab": {
          "base_uri": "https://localhost:8080/",
          "height": 323
        }
      },
      "source": [
        "#Modifiying the model from a relu activation function to a sigmoid function\n",
        "model2 = models.Sequential()\n",
        "model2.add(layers.Conv2D(32, (3, 3), activation='sigmoid', input_shape=(28, 28, 1)))\n",
        "model2.add(layers.MaxPooling2D((2, 2)))\n",
        "model2.add(layers.Conv2D(64, (3, 3), activation='sigmoid'))\n",
        "model2.add(layers.MaxPooling2D((2, 2)))\n",
        "model2.add(layers.Conv2D(64, (3, 3), activation='sigmoid'))\n",
        "model2.summary()"
      ],
      "execution_count": 0,
      "outputs": [
        {
          "output_type": "stream",
          "text": [
            "Model: \"sequential_2\"\n",
            "_________________________________________________________________\n",
            "Layer (type)                 Output Shape              Param #   \n",
            "=================================================================\n",
            "conv2d_4 (Conv2D)            (None, 26, 26, 32)        320       \n",
            "_________________________________________________________________\n",
            "max_pooling2d_3 (MaxPooling2 (None, 13, 13, 32)        0         \n",
            "_________________________________________________________________\n",
            "conv2d_5 (Conv2D)            (None, 11, 11, 64)        18496     \n",
            "_________________________________________________________________\n",
            "max_pooling2d_4 (MaxPooling2 (None, 5, 5, 64)          0         \n",
            "_________________________________________________________________\n",
            "conv2d_6 (Conv2D)            (None, 3, 3, 64)          36928     \n",
            "=================================================================\n",
            "Total params: 55,744\n",
            "Trainable params: 55,744\n",
            "Non-trainable params: 0\n",
            "_________________________________________________________________\n"
          ],
          "name": "stdout"
        }
      ]
    },
    {
      "cell_type": "code",
      "metadata": {
        "id": "qaE8gxoPqMUx",
        "colab_type": "code",
        "outputId": "711440a5-91b9-413a-9689-f3208e192c3e",
        "colab": {
          "base_uri": "https://localhost:8080/",
          "height": 425
        }
      },
      "source": [
        "#Adding a classifer on top of the convent\n",
        "model2.add(layers.Flatten())\n",
        "model2.add(layers.Dense(64, activation='sigmoid'))\n",
        "model2.add(layers.Dense(10, activation='softmax'))\n",
        "model2.summary()"
      ],
      "execution_count": 0,
      "outputs": [
        {
          "output_type": "stream",
          "text": [
            "Model: \"sequential_2\"\n",
            "_________________________________________________________________\n",
            "Layer (type)                 Output Shape              Param #   \n",
            "=================================================================\n",
            "conv2d_4 (Conv2D)            (None, 26, 26, 32)        320       \n",
            "_________________________________________________________________\n",
            "max_pooling2d_3 (MaxPooling2 (None, 13, 13, 32)        0         \n",
            "_________________________________________________________________\n",
            "conv2d_5 (Conv2D)            (None, 11, 11, 64)        18496     \n",
            "_________________________________________________________________\n",
            "max_pooling2d_4 (MaxPooling2 (None, 5, 5, 64)          0         \n",
            "_________________________________________________________________\n",
            "conv2d_6 (Conv2D)            (None, 3, 3, 64)          36928     \n",
            "_________________________________________________________________\n",
            "flatten_4 (Flatten)          (None, 576)               0         \n",
            "_________________________________________________________________\n",
            "dense_3 (Dense)              (None, 64)                36928     \n",
            "_________________________________________________________________\n",
            "dense_4 (Dense)              (None, 10)                650       \n",
            "=================================================================\n",
            "Total params: 93,322\n",
            "Trainable params: 93,322\n",
            "Non-trainable params: 0\n",
            "_________________________________________________________________\n"
          ],
          "name": "stdout"
        }
      ]
    },
    {
      "cell_type": "code",
      "metadata": {
        "id": "QUVWAUH_sPXk",
        "colab_type": "code",
        "outputId": "c1275ce1-21eb-440c-cdcb-e8078993aab0",
        "colab": {
          "base_uri": "https://localhost:8080/",
          "height": 238
        }
      },
      "source": [
        "#Compile and evalute the model\n",
        "model2.compile(optimizer='Adam', \n",
        "              loss='categorical_crossentropy',\n",
        "              metrics=['accuracy'])\n",
        "history2 = model2.fit(train_images, train_labels, epochs=6, batch_size=64, validation_split=0.2)"
      ],
      "execution_count": 0,
      "outputs": [
        {
          "output_type": "stream",
          "text": [
            "Train on 48000 samples, validate on 12000 samples\n",
            "Epoch 1/6\n",
            "48000/48000 [==============================] - 47s 977us/step - loss: 0.9738 - acc: 0.6853 - val_loss: 0.2545 - val_acc: 0.9326\n",
            "Epoch 2/6\n",
            "48000/48000 [==============================] - 46s 957us/step - loss: 0.1936 - acc: 0.9458 - val_loss: 0.1423 - val_acc: 0.9608\n",
            "Epoch 3/6\n",
            "48000/48000 [==============================] - 46s 953us/step - loss: 0.1160 - acc: 0.9660 - val_loss: 0.1036 - val_acc: 0.9701\n",
            "Epoch 4/6\n",
            "48000/48000 [==============================] - 46s 964us/step - loss: 0.0858 - acc: 0.9747 - val_loss: 0.0705 - val_acc: 0.9792\n",
            "Epoch 5/6\n",
            "48000/48000 [==============================] - 46s 956us/step - loss: 0.0673 - acc: 0.9797 - val_loss: 0.0642 - val_acc: 0.9802\n",
            "Epoch 6/6\n",
            "48000/48000 [==============================] - 46s 959us/step - loss: 0.0552 - acc: 0.9831 - val_loss: 0.0561 - val_acc: 0.9838\n"
          ],
          "name": "stdout"
        }
      ]
    },
    {
      "cell_type": "code",
      "metadata": {
        "id": "N_UDwf0Qszy4",
        "colab_type": "code",
        "outputId": "fead8256-9dbf-4978-d802-181e6ab35ad1",
        "colab": {
          "base_uri": "https://localhost:8080/",
          "height": 51
        }
      },
      "source": [
        "#Evaluate the model\n",
        "test2_loss, test2_acc = model2.evaluate(test_images, test_labels)\n",
        "test2_acc"
      ],
      "execution_count": 0,
      "outputs": [
        {
          "output_type": "stream",
          "text": [
            "10000/10000 [==============================] - 3s 324us/step\n"
          ],
          "name": "stdout"
        },
        {
          "output_type": "execute_result",
          "data": {
            "text/plain": [
              "0.9839"
            ]
          },
          "metadata": {
            "tags": []
          },
          "execution_count": 14
        }
      ]
    },
    {
      "cell_type": "code",
      "metadata": {
        "id": "GPqC3Ness4aT",
        "colab_type": "code",
        "outputId": "26ee3fab-3a12-48b3-996a-711d32ef4875",
        "colab": {
          "base_uri": "https://localhost:8080/",
          "height": 545
        }
      },
      "source": [
        "#Plots\n",
        "acc2 = history2.history['acc']\n",
        "val_acc2 = history2.history['val_acc']\n",
        "loss2 = history2.history['loss']\n",
        "val_loss2 = history2.history['val_loss']\n",
        "\n",
        "epochs2 = range(1, len(acc2) + 1)\n",
        "\n",
        "plt.plot(epochs2, acc2, 'bo', label='Training acc')\n",
        "plt.plot(epochs2, val_acc2, 'b', label='Validation acc')\n",
        "plt.title('Training and validation accuracy')\n",
        "plt.legend()\n",
        "\n",
        "plt.figure()\n",
        "\n",
        "plt.plot(epochs2, loss2, 'bo', label='Training loss')\n",
        "plt.plot(epochs2, val_loss2, 'b', label='Validation loss')\n",
        "plt.title('Training and validation loss')\n",
        "plt.legend()\n",
        "\n",
        "plt.show()"
      ],
      "execution_count": 0,
      "outputs": [
        {
          "output_type": "display_data",
          "data": {
            "image/png": "[encoded data removed]",
            "text/plain": [
              "<Figure size 432x288 with 1 Axes>"
            ]
          },
          "metadata": {
            "tags": []
          }
        },
        {
          "output_type": "display_data",
          "data": {
            "image/png": "[encoded data removed]",
            "text/plain": [
              "<Figure size 432x288 with 1 Axes>"
            ]
          },
          "metadata": {
            "tags": []
          }
        }
      ]
    },
    {
      "cell_type": "markdown",
      "metadata": {
        "id": "XwKv1yeyuWoe",
        "colab_type": "text"
      },
      "source": [
        "##Part 2 (Dogs and Cats)"
      ]
    },
    {
      "cell_type": "markdown",
      "metadata": {
        "id": "xOOIg5ukugai",
        "colab_type": "text"
      },
      "source": [
        "In this competition, you'll write an algorithm to classify whether images contain either a dog or a cat. This is easy for humans, dogs, and cats. Your computer will find it a bit more difficult."
      ]
    },
    {
      "cell_type": "code",
      "metadata": {
        "id": "g1ajoV1SD74r",
        "colab_type": "code",
        "outputId": "9c8ffb8c-5a5f-44df-b990-7cfc1241921b",
        "colab": {
          "base_uri": "https://localhost:8080/",
          "height": 204
        }
      },
      "source": [
        "!pip install kaggle"
      ],
      "execution_count": 0,
      "outputs": [
        {
          "output_type": "stream",
          "text": [
            "Requirement already satisfied: kaggle in /usr/local/lib/python3.6/dist-packages (1.5.6)\n",
            "Requirement already satisfied: requests in /usr/local/lib/python3.6/dist-packages (from kaggle) (2.21.0)\n",
            "Requirement already satisfied: urllib3<1.25,>=1.21.1 in /usr/local/lib/python3.6/dist-packages (from kaggle) (1.24.3)\n",
            "Requirement already satisfied: tqdm in /usr/local/lib/python3.6/dist-packages (from kaggle) (4.28.1)\n",
            "Requirement already satisfied: six>=1.10 in /usr/local/lib/python3.6/dist-packages (from kaggle) (1.12.0)\n",
            "Requirement already satisfied: python-slugify in /usr/local/lib/python3.6/dist-packages (from kaggle) (4.0.0)\n",
            "Requirement already satisfied: certifi in /usr/local/lib/python3.6/dist-packages (from kaggle) (2019.11.28)\n",
            "Requirement already satisfied: python-dateutil in /usr/local/lib/python3.6/dist-packages (from kaggle) (2.6.1)\n",
            "Requirement already satisfied: chardet<3.1.0,>=3.0.2 in /usr/local/lib/python3.6/dist-packages (from requests->kaggle) (3.0.4)\n",
            "Requirement already satisfied: idna<2.9,>=2.5 in /usr/local/lib/python3.6/dist-packages (from requests->kaggle) (2.8)\n",
            "Requirement already satisfied: text-unidecode>=1.3 in /usr/local/lib/python3.6/dist-packages (from python-slugify->kaggle) (1.3)\n"
          ],
          "name": "stdout"
        }
      ]
    },
    {
      "cell_type": "code",
      "metadata": {
        "id": "WCeFCDiIuZV5",
        "colab_type": "code",
        "outputId": "e5d515f1-a75f-48a5-a130-9e464d506ef5",
        "colab": {
          "base_uri": "https://localhost:8080/",
          "height": 207
        }
      },
      "source": [
        "import os\n",
        "os.environ['KAGGLE_USERNAME'] = \"aldavidv\" # username from the json file\n",
        "os.environ['KAGGLE_KEY'] = \"700c7cf361bb7ae744c958f398f9d210\" # key from the json file\n",
        "!kaggle competitions download -c dogs-vs-cats # api copied from kaggle "
      ],
      "execution_count": 0,
      "outputs": [
        {
          "output_type": "stream",
          "text": [
            "Warning: Looks like you're using an outdated API Version, please consider updating (server 1.5.6 / client 1.5.4)\n",
            "Downloading train.zip to /content\n",
            " 98% 530M/543M [00:02<00:00, 232MB/s]\n",
            "100% 543M/543M [00:03<00:00, 184MB/s]\n",
            "Downloading sampleSubmission.csv to /content\n",
            "  0% 0.00/86.8k [00:00<?, ?B/s]\n",
            "100% 86.8k/86.8k [00:00<00:00, 78.3MB/s]\n",
            "Downloading test1.zip to /content\n",
            "100% 271M/271M [00:02<00:00, 135MB/s]\n",
            "100% 271M/271M [00:02<00:00, 122MB/s]\n"
          ],
          "name": "stdout"
        }
      ]
    },
    {
      "cell_type": "code",
      "metadata": {
        "id": "h7bq1CDCxNAr",
        "colab_type": "code",
        "outputId": "2f2429d6-22b0-4050-de15-765e467affbe",
        "colab": {
          "base_uri": "https://localhost:8080/",
          "height": 34
        }
      },
      "source": [
        "# Upload data\n",
        "from zipfile import ZipFile\n",
        "\n",
        "file_name = \"/content/train.zip\"\n",
        "\n",
        "with ZipFile(file_name, 'r') as zip:\n",
        "  zip.extractall()\n",
        "  print('done')"
      ],
      "execution_count": 0,
      "outputs": [
        {
          "output_type": "stream",
          "text": [
            "done\n"
          ],
          "name": "stdout"
        }
      ]
    },
    {
      "cell_type": "code",
      "metadata": {
        "id": "k_cZFyDOxY8B",
        "colab_type": "code",
        "outputId": "865c511b-cfa0-4e21-bad7-77a357a05a96",
        "colab": {
          "base_uri": "https://localhost:8080/",
          "height": 34
        }
      },
      "source": [
        "data_dir_list = os.listdir('/content/train')\n",
        "#print(data_dir_list)\n",
        "\n",
        "path, dirs, files = next(os.walk(\"/content/train\"))\n",
        "file_count = len(files)\n",
        "print(file_count)"
      ],
      "execution_count": 0,
      "outputs": [
        {
          "output_type": "stream",
          "text": [
            "25000\n"
          ],
          "name": "stdout"
        }
      ]
    },
    {
      "cell_type": "code",
      "metadata": {
        "id": "uE1KOQGnxgGI",
        "colab_type": "code",
        "outputId": "f5c5c61e-15ca-40a4-f74b-2041ceca16f0",
        "colab": {
          "base_uri": "https://localhost:8080/",
          "height": 198
        }
      },
      "source": [
        "original_dataset_dir = '/content/train'\n",
        "base_dir2 = '/content/cats_and_dogs_small'\n",
        "os.mkdir(base_dir2)"
      ],
      "execution_count": 0,
      "outputs": [
        {
          "output_type": "error",
          "ename": "FileExistsError",
          "evalue": "ignored",
          "traceback": [
            "\u001b[0;31m---------------------------------------------------------------------------\u001b[0m",
            "\u001b[0;31mFileExistsError\u001b[0m                           Traceback (most recent call last)",
            "\u001b[0;32m<ipython-input-30-fb4e92a3b2f2>\u001b[0m in \u001b[0;36m<module>\u001b[0;34m()\u001b[0m\n\u001b[1;32m      1\u001b[0m \u001b[0moriginal_dataset_dir\u001b[0m \u001b[0;34m=\u001b[0m \u001b[0;34m'/content/train'\u001b[0m\u001b[0;34m\u001b[0m\u001b[0;34m\u001b[0m\u001b[0m\n\u001b[1;32m      2\u001b[0m \u001b[0mbase_dir2\u001b[0m \u001b[0;34m=\u001b[0m \u001b[0;34m'/content/cats_and_dogs_small'\u001b[0m\u001b[0;34m\u001b[0m\u001b[0;34m\u001b[0m\u001b[0m\n\u001b[0;32m----> 3\u001b[0;31m \u001b[0mos\u001b[0m\u001b[0;34m.\u001b[0m\u001b[0mmkdir\u001b[0m\u001b[0;34m(\u001b[0m\u001b[0mbase_dir2\u001b[0m\u001b[0;34m)\u001b[0m\u001b[0;34m\u001b[0m\u001b[0;34m\u001b[0m\u001b[0m\n\u001b[0m",
            "\u001b[0;31mFileExistsError\u001b[0m: [Errno 17] File exists: '/content/cats_and_dogs_small'"
          ]
        }
      ]
    },
    {
      "cell_type": "code",
      "metadata": {
        "id": "pBPoKNznxvMB",
        "colab_type": "code",
        "colab": {}
      },
      "source": [
        "train_dir2 = os.path.join(base_dir2, 'train')\n",
        "os.mkdir(train_dir2)\n",
        "\n",
        "validation_dir2 = os.path.join(base_dir2, 'validation')\n",
        "os.mkdir(validation_dir2)\n",
        "\n",
        "test_dir2 = os.path.join(base_dir2, 'test')\n",
        "os.mkdir(test_dir2)\n",
        "\n",
        "train_cats_dir2 = os.path.join(train_dir2, 'cats')\n",
        "os.mkdir(train_cats_dir2)\n",
        "\n",
        "train_dogs_dir2 = os.path.join(train_dir2, 'dogs')\n",
        "os.mkdir(train_dogs_dir2)\n",
        "\n",
        "validation_cats_dir2 = os.path.join(validation_dir2, 'cats')\n",
        "os.mkdir(validation_cats_dir2)\n",
        "\n",
        "validation_dogs_dir2 = os.path.join(validation_dir2, 'dogs')\n",
        "os.mkdir(validation_dogs_dir2)\n",
        "\n",
        "test_cats_dir2 = os.path.join(test_dir2, 'cats')\n",
        "os.mkdir(test_cats_dir2)\n",
        "\n",
        "test_dogs_dir2 = os.path.join(test_dir2, 'dogs')\n",
        "os.mkdir(test_dogs_dir2)\n"
      ],
      "execution_count": 0,
      "outputs": []
    },
    {
      "cell_type": "code",
      "metadata": {
        "id": "1K1wChtnx84S",
        "colab_type": "code",
        "colab": {}
      },
      "source": [
        "import shutil\n",
        "fnames = ['cat.{}.jpg'.format(i) for i in range(1000)]\n",
        "for fname in fnames:\n",
        "    src = os.path.join(original_dataset_dir, fname)\n",
        "    dst = os.path.join(train_cats_dir2, fname)\n",
        "    #print(src,dst)\n",
        "    shutil.copyfile(src, dst)\n",
        "    \n",
        "fnames = ['cat.{}.jpg'.format(i) for i in range(1000, 1500)]\n",
        "for fname in fnames:\n",
        "    src = os.path.join(original_dataset_dir, fname)\n",
        "    dst = os.path.join(validation_cats_dir2, fname)\n",
        "    shutil.copyfile(src, dst)\n",
        "\n",
        "fnames = ['cat.{}.jpg'.format(i) for i in range(1500, 2000)]\n",
        "for fname in fnames:\n",
        "    src = os.path.join(original_dataset_dir, fname)\n",
        "    dst = os.path.join(test_cats_dir2, fname)\n",
        "    shutil.copyfile(src, dst)\n",
        "    \n",
        "fnames = ['dog.{}.jpg'.format(i) for i in range(1000)]\n",
        "for fname in fnames:\n",
        "    src = os.path.join(original_dataset_dir, fname)\n",
        "    dst = os.path.join(train_dogs_dir2, fname)\n",
        "    shutil.copyfile(src, dst)\n",
        "\n",
        "fnames = ['dog.{}.jpg'.format(i) for i in range(1000, 1500)]\n",
        "for fname in fnames:\n",
        "    src = os.path.join(original_dataset_dir, fname)\n",
        "    dst = os.path.join(validation_dogs_dir2, fname)\n",
        "    shutil.copyfile(src, dst)\n",
        "\n",
        "fnames = ['dog.{}.jpg'.format(i) for i in range(1500, 2000)]\n",
        "for fname in fnames:\n",
        "    src = os.path.join(original_dataset_dir, fname)\n",
        "    dst = os.path.join(test_dogs_dir2, fname)\n",
        "    shutil.copyfile(src, dst)"
      ],
      "execution_count": 0,
      "outputs": []
    },
    {
      "cell_type": "code",
      "metadata": {
        "id": "fXcqcRtwyOND",
        "colab_type": "code",
        "outputId": "2be99ab7-76a5-499f-cf31-8bd743092236",
        "colab": {
          "base_uri": "https://localhost:8080/",
          "height": 119
        }
      },
      "source": [
        "print('total training cat images:', len(os.listdir(train_cats_dir)))\n",
        "print('total training dog images:', len(os.listdir(train_dogs_dir)))\n",
        "print('total validation cat images:', len(os.listdir(validation_cats_dir)))\n",
        "\n",
        "print('total validation dog images:', len(os.listdir(validation_dogs_dir)))\n",
        "print('total test cat images:', len(os.listdir(test_cats_dir)))\n",
        "print('total test dog images:', len(os.listdir(test_dogs_dir)))"
      ],
      "execution_count": 0,
      "outputs": [
        {
          "output_type": "stream",
          "text": [
            "total training cat images: 1000\n",
            "total training dog images: 1000\n",
            "total validation cat images: 500\n",
            "total validation dog images: 500\n",
            "total test cat images: 500\n",
            "total test dog images: 500\n"
          ],
          "name": "stdout"
        }
      ]
    },
    {
      "cell_type": "code",
      "metadata": {
        "id": "3tF3exQq1P0o",
        "colab_type": "code",
        "outputId": "b2719417-1b3f-4196-e261-b5de8e790eb7",
        "colab": {
          "base_uri": "https://localhost:8080/",
          "height": 683
        }
      },
      "source": [
        "#from keras import layers\n",
        "#from keras import models\n",
        "\n",
        "modelp = models.Sequential()\n",
        "modelp.add(layers.Conv2D(32, (3, 3), activation='relu', input_shape=(150, 150, 3)))\n",
        "modelp.add(layers.MaxPooling2D((2, 2)))\n",
        "modelp.add(layers.Conv2D(64, (3, 3), activation='relu'))\n",
        "modelp.add(layers.MaxPooling2D((2, 2)))\n",
        "modelp.add(layers.Conv2D(128, (3, 3), activation='relu'))\n",
        "modelp.add(layers.MaxPooling2D((2, 2)))\n",
        "modelp.add(layers.Conv2D(128, (3, 3), activation='relu'))\n",
        "modelp.add(layers.MaxPooling2D((2, 2)))\n",
        "modelp.add(layers.Flatten())\n",
        "modelp.add(layers.Dense(512, activation='relu'))\n",
        "modelp.add(layers.Dense(1, activation='sigmoid'))\n",
        "modelp.summary()"
      ],
      "execution_count": 0,
      "outputs": [
        {
          "output_type": "stream",
          "text": [
            "WARNING:tensorflow:From /usr/local/lib/python3.6/dist-packages/keras/backend/tensorflow_backend.py:66: The name tf.get_default_graph is deprecated. Please use tf.compat.v1.get_default_graph instead.\n",
            "\n",
            "WARNING:tensorflow:From /usr/local/lib/python3.6/dist-packages/keras/backend/tensorflow_backend.py:541: The name tf.placeholder is deprecated. Please use tf.compat.v1.placeholder instead.\n",
            "\n",
            "WARNING:tensorflow:From /usr/local/lib/python3.6/dist-packages/keras/backend/tensorflow_backend.py:4432: The name tf.random_uniform is deprecated. Please use tf.random.uniform instead.\n",
            "\n",
            "WARNING:tensorflow:From /usr/local/lib/python3.6/dist-packages/keras/backend/tensorflow_backend.py:4267: The name tf.nn.max_pool is deprecated. Please use tf.nn.max_pool2d instead.\n",
            "\n",
            "Model: \"sequential_1\"\n",
            "_________________________________________________________________\n",
            "Layer (type)                 Output Shape              Param #   \n",
            "=================================================================\n",
            "conv2d_1 (Conv2D)            (None, 148, 148, 32)      896       \n",
            "_________________________________________________________________\n",
            "max_pooling2d_1 (MaxPooling2 (None, 74, 74, 32)        0         \n",
            "_________________________________________________________________\n",
            "conv2d_2 (Conv2D)            (None, 72, 72, 64)        18496     \n",
            "_________________________________________________________________\n",
            "max_pooling2d_2 (MaxPooling2 (None, 36, 36, 64)        0         \n",
            "_________________________________________________________________\n",
            "conv2d_3 (Conv2D)            (None, 34, 34, 128)       73856     \n",
            "_________________________________________________________________\n",
            "max_pooling2d_3 (MaxPooling2 (None, 17, 17, 128)       0         \n",
            "_________________________________________________________________\n",
            "conv2d_4 (Conv2D)            (None, 15, 15, 128)       147584    \n",
            "_________________________________________________________________\n",
            "max_pooling2d_4 (MaxPooling2 (None, 7, 7, 128)         0         \n",
            "_________________________________________________________________\n",
            "flatten_1 (Flatten)          (None, 6272)              0         \n",
            "_________________________________________________________________\n",
            "dense_1 (Dense)              (None, 512)               3211776   \n",
            "_________________________________________________________________\n",
            "dense_2 (Dense)              (None, 1)                 513       \n",
            "=================================================================\n",
            "Total params: 3,453,121\n",
            "Trainable params: 3,453,121\n",
            "Non-trainable params: 0\n",
            "_________________________________________________________________\n"
          ],
          "name": "stdout"
        }
      ]
    },
    {
      "cell_type": "code",
      "metadata": {
        "id": "x4Y0mCWJ1e-D",
        "colab_type": "code",
        "outputId": "3c3e85fd-06ad-4ac8-b402-fdada2295f0d",
        "colab": {
          "base_uri": "https://localhost:8080/",
          "height": 156
        }
      },
      "source": [
        "from keras import optimizers\n",
        "modelp.compile(loss='binary_crossentropy', \n",
        "              optimizer=optimizers.RMSprop(lr=1e-4),\n",
        "              metrics=['acc'])"
      ],
      "execution_count": 0,
      "outputs": [
        {
          "output_type": "stream",
          "text": [
            "WARNING:tensorflow:From /usr/local/lib/python3.6/dist-packages/keras/optimizers.py:793: The name tf.train.Optimizer is deprecated. Please use tf.compat.v1.train.Optimizer instead.\n",
            "\n",
            "WARNING:tensorflow:From /usr/local/lib/python3.6/dist-packages/keras/backend/tensorflow_backend.py:3657: The name tf.log is deprecated. Please use tf.math.log instead.\n",
            "\n",
            "WARNING:tensorflow:From /usr/local/lib/python3.6/dist-packages/tensorflow_core/python/ops/nn_impl.py:183: where (from tensorflow.python.ops.array_ops) is deprecated and will be removed in a future version.\n",
            "Instructions for updating:\n",
            "Use tf.where in 2.0, which has the same broadcast rule as np.where\n"
          ],
          "name": "stdout"
        }
      ]
    },
    {
      "cell_type": "markdown",
      "metadata": {
        "id": "IzaMH-Ov1ukj",
        "colab_type": "text"
      },
      "source": [
        "###Using ImageDataGenerator to read images from directories\n",
        "\n",
        "As you know by now, data should be formatted into appropriately preprocessed floatingpoint tensors before being fed into the network. Currently, the data sits on a drive as JPEG files, so the steps for getting it into the network are roughly as follows:\n",
        "* Read the picture files.\n",
        "* Decode the JPEG content to RGB grids of pixels.\n",
        "* Convert these into floating-point tensors.\n",
        "* Rescale the pixel values (between 0 and 255) to the [0, 1] interval (as you know, neural networks prefer to deal with small input values).\n",
        "\n",
        "It may seem a bit daunting, but fortunately Keras has utilities to take care of these steps automatically. Keras has a module with image-processing helper tools, located at keras.preprocessing.image. In particular, it contains the class ImageDataGenerator,which lets you quickly set up Python generators that can automatically turn image files on disk into batches of preprocessed tensors."
      ]
    },
    {
      "cell_type": "code",
      "metadata": {
        "id": "bMQfifem2OaA",
        "colab_type": "code",
        "outputId": "5cc90b54-16df-492e-fe7f-4d76014ccdaa",
        "colab": {
          "base_uri": "https://localhost:8080/",
          "height": 51
        }
      },
      "source": [
        "from keras.preprocessing.image import ImageDataGenerator\n",
        "\n",
        "train_datagen = ImageDataGenerator(rescale=1./255)\n",
        "test_datagen = ImageDataGenerator(rescale=1./255)\n",
        "\n",
        "train_generator = train_datagen.flow_from_directory(train_dir,\n",
        "                                                    target_size=(150, 150), \n",
        "                                                    batch_size=20,\n",
        "                                                    class_mode='binary')\n",
        "\n",
        "validation_generator = test_datagen.flow_from_directory(validation_dir,\n",
        "                                                        target_size=(150, 150),\n",
        "                                                        batch_size=20,\n",
        "                                                        class_mode='binary')"
      ],
      "execution_count": 0,
      "outputs": [
        {
          "output_type": "stream",
          "text": [
            "Found 2000 images belonging to 2 classes.\n",
            "Found 1000 images belonging to 2 classes.\n"
          ],
          "name": "stdout"
        }
      ]
    },
    {
      "cell_type": "code",
      "metadata": {
        "id": "uf-7YJkf1x9N",
        "colab_type": "code",
        "outputId": "7c718391-5749-456f-a46f-0f4483b49305",
        "colab": {
          "base_uri": "https://localhost:8080/",
          "height": 1000
        }
      },
      "source": [
        "historyp = modelp.fit_generator(train_generator,\n",
        "                              steps_per_epoch=100,\n",
        "                              epochs=30,\n",
        "                              validation_data=validation_generator,\n",
        "                              validation_steps=10)"
      ],
      "execution_count": 0,
      "outputs": [
        {
          "output_type": "stream",
          "text": [
            "WARNING:tensorflow:From /usr/local/lib/python3.6/dist-packages/keras/backend/tensorflow_backend.py:1033: The name tf.assign_add is deprecated. Please use tf.compat.v1.assign_add instead.\n",
            "\n",
            "WARNING:tensorflow:From /usr/local/lib/python3.6/dist-packages/keras/backend/tensorflow_backend.py:1020: The name tf.assign is deprecated. Please use tf.compat.v1.assign instead.\n",
            "\n",
            "WARNING:tensorflow:From /usr/local/lib/python3.6/dist-packages/keras/backend/tensorflow_backend.py:3005: The name tf.Session is deprecated. Please use tf.compat.v1.Session instead.\n",
            "\n",
            "Epoch 1/30\n",
            "WARNING:tensorflow:From /usr/local/lib/python3.6/dist-packages/keras/backend/tensorflow_backend.py:190: The name tf.get_default_session is deprecated. Please use tf.compat.v1.get_default_session instead.\n",
            "\n",
            "WARNING:tensorflow:From /usr/local/lib/python3.6/dist-packages/keras/backend/tensorflow_backend.py:197: The name tf.ConfigProto is deprecated. Please use tf.compat.v1.ConfigProto instead.\n",
            "\n",
            "WARNING:tensorflow:From /usr/local/lib/python3.6/dist-packages/keras/backend/tensorflow_backend.py:207: The name tf.global_variables is deprecated. Please use tf.compat.v1.global_variables instead.\n",
            "\n",
            "WARNING:tensorflow:From /usr/local/lib/python3.6/dist-packages/keras/backend/tensorflow_backend.py:216: The name tf.is_variable_initialized is deprecated. Please use tf.compat.v1.is_variable_initialized instead.\n",
            "\n",
            "WARNING:tensorflow:From /usr/local/lib/python3.6/dist-packages/keras/backend/tensorflow_backend.py:223: The name tf.variables_initializer is deprecated. Please use tf.compat.v1.variables_initializer instead.\n",
            "\n",
            "100/100 [==============================] - 19s 191ms/step - loss: 0.6865 - acc: 0.5405 - val_loss: 0.6880 - val_acc: 0.5000\n",
            "Epoch 2/30\n",
            "100/100 [==============================] - 6s 60ms/step - loss: 0.6548 - acc: 0.6085 - val_loss: 0.6811 - val_acc: 0.5550\n",
            "Epoch 3/30\n",
            "100/100 [==============================] - 6s 61ms/step - loss: 0.6008 - acc: 0.6740 - val_loss: 0.5839 - val_acc: 0.6650\n",
            "Epoch 4/30\n",
            "100/100 [==============================] - 6s 61ms/step - loss: 0.5641 - acc: 0.7095 - val_loss: 0.6115 - val_acc: 0.6650\n",
            "Epoch 5/30\n",
            "100/100 [==============================] - 6s 60ms/step - loss: 0.5329 - acc: 0.7410 - val_loss: 0.5403 - val_acc: 0.7350\n",
            "Epoch 6/30\n",
            "100/100 [==============================] - 6s 62ms/step - loss: 0.5153 - acc: 0.7385 - val_loss: 0.6627 - val_acc: 0.6350\n",
            "Epoch 7/30\n",
            "100/100 [==============================] - 6s 60ms/step - loss: 0.4905 - acc: 0.7580 - val_loss: 0.5918 - val_acc: 0.6700\n",
            "Epoch 8/30\n",
            "100/100 [==============================] - 6s 60ms/step - loss: 0.4642 - acc: 0.7795 - val_loss: 0.6587 - val_acc: 0.6750\n",
            "Epoch 9/30\n",
            "100/100 [==============================] - 6s 61ms/step - loss: 0.4334 - acc: 0.7990 - val_loss: 0.7096 - val_acc: 0.6350\n",
            "Epoch 10/30\n",
            "100/100 [==============================] - 6s 59ms/step - loss: 0.4159 - acc: 0.8085 - val_loss: 0.5406 - val_acc: 0.7400\n",
            "Epoch 11/30\n",
            "100/100 [==============================] - 6s 60ms/step - loss: 0.3882 - acc: 0.8320 - val_loss: 0.5395 - val_acc: 0.7350\n",
            "Epoch 12/30\n",
            "100/100 [==============================] - 6s 59ms/step - loss: 0.3633 - acc: 0.8310 - val_loss: 0.5592 - val_acc: 0.7100\n",
            "Epoch 13/30\n",
            "100/100 [==============================] - 6s 62ms/step - loss: 0.3323 - acc: 0.8640 - val_loss: 0.5537 - val_acc: 0.7250\n",
            "Epoch 14/30\n",
            "100/100 [==============================] - 6s 62ms/step - loss: 0.3122 - acc: 0.8675 - val_loss: 0.7198 - val_acc: 0.6600\n",
            "Epoch 15/30\n",
            "100/100 [==============================] - 6s 62ms/step - loss: 0.2897 - acc: 0.8785 - val_loss: 0.5706 - val_acc: 0.7600\n",
            "Epoch 16/30\n",
            "100/100 [==============================] - 6s 61ms/step - loss: 0.2667 - acc: 0.8905 - val_loss: 0.5342 - val_acc: 0.7350\n",
            "Epoch 17/30\n",
            "100/100 [==============================] - 6s 60ms/step - loss: 0.2375 - acc: 0.9130 - val_loss: 0.6137 - val_acc: 0.7400\n",
            "Epoch 18/30\n",
            "100/100 [==============================] - 6s 59ms/step - loss: 0.2214 - acc: 0.9150 - val_loss: 0.7729 - val_acc: 0.7100\n",
            "Epoch 19/30\n",
            "100/100 [==============================] - 6s 61ms/step - loss: 0.2030 - acc: 0.9210 - val_loss: 0.6555 - val_acc: 0.7400\n",
            "Epoch 20/30\n",
            "100/100 [==============================] - 6s 60ms/step - loss: 0.1671 - acc: 0.9420 - val_loss: 0.8424 - val_acc: 0.7000\n",
            "Epoch 21/30\n",
            "100/100 [==============================] - 6s 59ms/step - loss: 0.1562 - acc: 0.9440 - val_loss: 0.7798 - val_acc: 0.7200\n",
            "Epoch 22/30\n",
            "100/100 [==============================] - 6s 59ms/step - loss: 0.1337 - acc: 0.9560 - val_loss: 0.6614 - val_acc: 0.7650\n",
            "Epoch 23/30\n",
            "100/100 [==============================] - 6s 60ms/step - loss: 0.1154 - acc: 0.9640 - val_loss: 0.8644 - val_acc: 0.6850\n",
            "Epoch 24/30\n",
            "100/100 [==============================] - 6s 60ms/step - loss: 0.1039 - acc: 0.9685 - val_loss: 0.9463 - val_acc: 0.7000\n",
            "Epoch 25/30\n",
            "100/100 [==============================] - 6s 62ms/step - loss: 0.0864 - acc: 0.9755 - val_loss: 0.7921 - val_acc: 0.7200\n",
            "Epoch 26/30\n",
            "100/100 [==============================] - 6s 59ms/step - loss: 0.0757 - acc: 0.9775 - val_loss: 0.9340 - val_acc: 0.7350\n",
            "Epoch 27/30\n",
            "100/100 [==============================] - 6s 59ms/step - loss: 0.0613 - acc: 0.9805 - val_loss: 1.0849 - val_acc: 0.6800\n",
            "Epoch 28/30\n",
            "100/100 [==============================] - 6s 59ms/step - loss: 0.0519 - acc: 0.9880 - val_loss: 0.8523 - val_acc: 0.7500\n",
            "Epoch 29/30\n",
            "100/100 [==============================] - 6s 61ms/step - loss: 0.0475 - acc: 0.9855 - val_loss: 1.2354 - val_acc: 0.6900\n",
            "Epoch 30/30\n",
            "100/100 [==============================] - 6s 60ms/step - loss: 0.0473 - acc: 0.9850 - val_loss: 1.1654 - val_acc: 0.7000\n"
          ],
          "name": "stdout"
        }
      ]
    },
    {
      "cell_type": "code",
      "metadata": {
        "id": "Bo4XFI3dAxS9",
        "colab_type": "code",
        "outputId": "57ab1b60-e833-403d-abe7-2f6e7dfa98de",
        "colab": {
          "base_uri": "https://localhost:8080/",
          "height": 545
        }
      },
      "source": [
        "modelp.save('cats_and_dogs_small_1.h5')\n",
        "\n",
        "import matplotlib.pyplot as plt\n",
        "\n",
        "accp = historyp.history['acc']\n",
        "val_accp = historyp.history['val_acc']\n",
        "lossp = historyp.history['loss']\n",
        "val_lossp = historyp.history['val_loss']\n",
        "\n",
        "epochsp = range(1, len(accp) + 1)\n",
        "\n",
        "plt.plot(epochsp, accp, 'bo', label='Training acc')\n",
        "plt.plot(epochsp, val_accp, 'b', label='Validation acc')\n",
        "plt.title('Training and validation accuracy')\n",
        "plt.legend()\n",
        "\n",
        "plt.figure()\n",
        "\n",
        "plt.plot(epochsp, lossp, 'bo', label='Training loss')\n",
        "plt.plot(epochsp, val_lossp, 'b', label='Validation loss')\n",
        "plt.title('Training and validation loss')\n",
        "plt.legend()\n",
        "\n",
        "plt.show()"
      ],
      "execution_count": 0,
      "outputs": [
        {
          "output_type": "display_data",
          "data": {
            "image/png": "[encoded data removed]",
            "text/plain": [
              "<Figure size 432x288 with 1 Axes>"
            ]
          },
          "metadata": {
            "tags": []
          }
        },
        {
          "output_type": "display_data",
          "data": {
            "image/png": "[encoded data removed]",
            "text/plain": [
              "<Figure size 432x288 with 1 Axes>"
            ]
          },
          "metadata": {
            "tags": []
          }
        }
      ]
    },
    {
      "cell_type": "markdown",
      "metadata": {
        "id": "iZyL_EYvBNDL",
        "colab_type": "text"
      },
      "source": [
        "##Convolutional Networks with Dropout\n"
      ]
    },
    {
      "cell_type": "code",
      "metadata": {
        "id": "7t-1SM12BPOb",
        "colab_type": "code",
        "outputId": "b31bc157-9eb9-4b43-9b3f-1d46a258dffd",
        "colab": {
          "base_uri": "https://localhost:8080/",
          "height": 122
        }
      },
      "source": [
        "modelc = models.Sequential()\n",
        "modelc.add(layers.Conv2D(32, (3, 3), activation='relu',\n",
        "input_shape=(150, 150, 3)))\n",
        "modelc.add(layers.MaxPooling2D((2, 2)))\n",
        "modelc.add(layers.Conv2D(64, (3, 3), activation='relu'))\n",
        "modelc.add(layers.MaxPooling2D((2, 2)))\n",
        "modelc.add(layers.Conv2D(128, (3, 3), activation='relu'))\n",
        "modelc.add(layers.MaxPooling2D((2, 2)))\n",
        "modelc.add(layers.Conv2D(128, (3, 3), activation='relu'))\n",
        "modelc.add(layers.MaxPooling2D((2, 2)))\n",
        "modelc.add(layers.Flatten())\n",
        "modelc.add(layers.Dropout(0.5))\n",
        "modelc.add(layers.Dense(512, activation='relu'))\n",
        "modelc.add(layers.Dense(1, activation='sigmoid'))\n",
        "\n",
        "modelc.compile(loss='binary_crossentropy',\n",
        "              optimizer=optimizers.RMSprop(lr=1e-4),\n",
        "              metrics=['acc'])"
      ],
      "execution_count": 0,
      "outputs": [
        {
          "output_type": "stream",
          "text": [
            "WARNING:tensorflow:From /usr/local/lib/python3.6/dist-packages/keras/backend/tensorflow_backend.py:148: The name tf.placeholder_with_default is deprecated. Please use tf.compat.v1.placeholder_with_default instead.\n",
            "\n",
            "WARNING:tensorflow:From /usr/local/lib/python3.6/dist-packages/keras/backend/tensorflow_backend.py:3733: calling dropout (from tensorflow.python.ops.nn_ops) with keep_prob is deprecated and will be removed in a future version.\n",
            "Instructions for updating:\n",
            "Please use `rate` instead of `keep_prob`. Rate should be set to `rate = 1 - keep_prob`.\n"
          ],
          "name": "stdout"
        }
      ]
    },
    {
      "cell_type": "code",
      "metadata": {
        "id": "QzldN5RzBhuz",
        "colab_type": "code",
        "outputId": "62ed62c9-1b88-4296-d7da-16d930721080",
        "colab": {
          "base_uri": "https://localhost:8080/",
          "height": 751
        }
      },
      "source": [
        "train_datagen = ImageDataGenerator(rescale=1./255,\n",
        "                                   rotation_range=40,\n",
        "                                   width_shift_range=0.2,\n",
        "                                   height_shift_range=0.2,\n",
        "                                   shear_range=0.2,\n",
        "                                   zoom_range=0.2,\n",
        "                                   horizontal_flip=True,)\n",
        "\n",
        "test_datagen = ImageDataGenerator(rescale=1./255)\n",
        "\n",
        "train_generator = train_datagen.flow_from_directory(train_dir,\n",
        "                                                    target_size=(150, 150),\n",
        "                                                    batch_size=32,\n",
        "                                                    class_mode='binary')\n",
        "\n",
        "validation_generator = test_datagen.flow_from_directory(validation_dir,\n",
        "                                                        target_size=(150, 150),\n",
        "                                                        batch_size=32,\n",
        "                                                        class_mode='binary')\n",
        "\n",
        "history = modelc.fit_generator(train_generator,\n",
        "                              steps_per_epoch=100,\n",
        "                              epochs=20,\n",
        "                              validation_data=validation_generator,\n",
        "                              validation_steps=50)\n"
      ],
      "execution_count": 0,
      "outputs": [
        {
          "output_type": "stream",
          "text": [
            "Found 2000 images belonging to 2 classes.\n",
            "Found 1000 images belonging to 2 classes.\n",
            "Epoch 1/20\n",
            "100/100 [==============================] - 28s 279ms/step - loss: 0.6943 - acc: 0.5047 - val_loss: 0.6878 - val_acc: 0.4981\n",
            "Epoch 2/20\n",
            "100/100 [==============================] - 25s 251ms/step - loss: 0.6825 - acc: 0.5559 - val_loss: 0.6677 - val_acc: 0.5921\n",
            "Epoch 3/20\n",
            "100/100 [==============================] - 25s 252ms/step - loss: 0.6724 - acc: 0.5806 - val_loss: 0.6456 - val_acc: 0.6339\n",
            "Epoch 4/20\n",
            "100/100 [==============================] - 25s 254ms/step - loss: 0.6529 - acc: 0.6084 - val_loss: 0.6325 - val_acc: 0.6308\n",
            "Epoch 5/20\n",
            "100/100 [==============================] - 24s 239ms/step - loss: 0.6313 - acc: 0.6300 - val_loss: 0.6142 - val_acc: 0.6593\n",
            "Epoch 6/20\n",
            "100/100 [==============================] - 27s 271ms/step - loss: 0.6145 - acc: 0.6547 - val_loss: 0.5949 - val_acc: 0.6765\n",
            "Epoch 7/20\n",
            "100/100 [==============================] - 25s 252ms/step - loss: 0.6052 - acc: 0.6694 - val_loss: 0.5974 - val_acc: 0.6485\n",
            "Epoch 8/20\n",
            "100/100 [==============================] - 25s 254ms/step - loss: 0.6011 - acc: 0.6659 - val_loss: 0.6015 - val_acc: 0.6695\n",
            "Epoch 9/20\n",
            "100/100 [==============================] - 25s 250ms/step - loss: 0.5809 - acc: 0.6822 - val_loss: 0.5473 - val_acc: 0.7036\n",
            "Epoch 10/20\n",
            "100/100 [==============================] - 24s 244ms/step - loss: 0.5764 - acc: 0.6853 - val_loss: 0.6033 - val_acc: 0.6821\n",
            "Epoch 11/20\n",
            "100/100 [==============================] - 26s 260ms/step - loss: 0.5662 - acc: 0.7119 - val_loss: 0.5525 - val_acc: 0.7068\n",
            "Epoch 12/20\n",
            "100/100 [==============================] - 25s 250ms/step - loss: 0.5597 - acc: 0.7100 - val_loss: 0.5224 - val_acc: 0.7373\n",
            "Epoch 13/20\n",
            "100/100 [==============================] - 26s 256ms/step - loss: 0.5565 - acc: 0.7066 - val_loss: 0.5461 - val_acc: 0.7113\n",
            "Epoch 14/20\n",
            "100/100 [==============================] - 25s 250ms/step - loss: 0.5547 - acc: 0.7172 - val_loss: 0.5256 - val_acc: 0.7157\n",
            "Epoch 15/20\n",
            "100/100 [==============================] - 25s 251ms/step - loss: 0.5406 - acc: 0.7212 - val_loss: 0.5051 - val_acc: 0.7519\n",
            "Epoch 16/20\n",
            "100/100 [==============================] - 25s 254ms/step - loss: 0.5399 - acc: 0.7253 - val_loss: 0.5057 - val_acc: 0.7474\n",
            "Epoch 17/20\n",
            "100/100 [==============================] - 23s 232ms/step - loss: 0.5349 - acc: 0.7350 - val_loss: 0.5381 - val_acc: 0.7373\n",
            "Epoch 18/20\n",
            "100/100 [==============================] - 27s 274ms/step - loss: 0.5347 - acc: 0.7406 - val_loss: 0.5038 - val_acc: 0.7513\n",
            "Epoch 19/20\n",
            "100/100 [==============================] - 25s 253ms/step - loss: 0.5204 - acc: 0.7488 - val_loss: 0.5063 - val_acc: 0.7418\n",
            "Epoch 20/20\n",
            "100/100 [==============================] - 25s 253ms/step - loss: 0.5138 - acc: 0.7453 - val_loss: 0.5191 - val_acc: 0.7274\n"
          ],
          "name": "stdout"
        }
      ]
    },
    {
      "cell_type": "markdown",
      "metadata": {
        "id": "_mTkooA3LsFd",
        "colab_type": "text"
      },
      "source": [
        "##Part 3 (RNN)\n"
      ]
    },
    {
      "cell_type": "code",
      "metadata": {
        "id": "0PGnDZo3L0B4",
        "colab_type": "code",
        "outputId": "1574e480-c852-4955-e7d9-81d26e2f2057",
        "colab": {
          "base_uri": "https://localhost:8080/",
          "height": 34
        }
      },
      "source": [
        "import keras\n",
        "keras.__version__"
      ],
      "execution_count": 0,
      "outputs": [
        {
          "output_type": "execute_result",
          "data": {
            "text/plain": [
              "'2.2.5'"
            ]
          },
          "metadata": {
            "tags": []
          },
          "execution_count": 26
        }
      ]
    },
    {
      "cell_type": "code",
      "metadata": {
        "id": "38qeijVzL75Y",
        "colab_type": "code",
        "outputId": "49b722b3-016b-4616-9e4a-ac9dd96db8f7",
        "colab": {
          "base_uri": "https://localhost:8080/",
          "height": 34
        }
      },
      "source": [
        "from keras.preprocessing.text import Tokenizer\n",
        "samples = ['The cat sat on the mat.', 'The dog ate my homework.']\n",
        "\n",
        "# We create a tokenizer, configured to only take into account the top-1000 most common words\n",
        "tokenizer = Tokenizer(num_words=1000)\n",
        "\n",
        "# This builds the word index\n",
        "tokenizer.fit_on_texts(samples)\n",
        "\n",
        "# This turns strings into lists of integer indices.\n",
        "sequences = tokenizer.texts_to_sequences(samples)\n",
        "\n",
        "# You could also directly get the one-hot binary representations.\n",
        "# Note that other vectorization modes than one-hot encoding are supported!\n",
        "one_hot_results = tokenizer.texts_to_matrix(samples, mode='binary')\n",
        "\n",
        "# This is how you can recover the word index that was computed\n",
        "word_index = tokenizer.word_index\n",
        "print('Found %s unique tokens.' % len(word_index))"
      ],
      "execution_count": 0,
      "outputs": [
        {
          "output_type": "stream",
          "text": [
            "Found 9 unique tokens.\n"
          ],
          "name": "stdout"
        }
      ]
    },
    {
      "cell_type": "code",
      "metadata": {
        "id": "unR4c1jMMaSj",
        "colab_type": "code",
        "outputId": "1c484a70-4d8a-4048-ebbb-669a1affcb01",
        "colab": {
          "base_uri": "https://localhost:8080/",
          "height": 51
        }
      },
      "source": [
        "one_hot_results"
      ],
      "execution_count": 0,
      "outputs": [
        {
          "output_type": "execute_result",
          "data": {
            "text/plain": [
              "array([[0., 1., 1., ..., 0., 0., 0.],\n",
              "       [0., 1., 0., ..., 0., 0., 0.]])"
            ]
          },
          "metadata": {
            "tags": []
          },
          "execution_count": 28
        }
      ]
    },
    {
      "cell_type": "markdown",
      "metadata": {
        "id": "1JqHxs8CMf-K",
        "colab_type": "text"
      },
      "source": [
        "Using word-embeddings"
      ]
    },
    {
      "cell_type": "code",
      "metadata": {
        "id": "KY4fi32dMkyc",
        "colab_type": "code",
        "outputId": "730c0526-4561-4aa5-cb86-f479a2edaeb3",
        "colab": {
          "base_uri": "https://localhost:8080/",
          "height": 153
        }
      },
      "source": [
        "from keras.datasets import imdb\n",
        "from keras.preprocessing import sequence\n",
        "\n",
        "max_features = 10000\n",
        "maxlen = 500\n",
        "batch_size = 32\n",
        "print('Loading data...')\n",
        "(input_train, y_train), (input_test, y_test) = imdb.load_data(num_words=max_features)\n",
        "print(len(input_train), 'train sequences')\n",
        "print(len(input_test), 'test sequences')\n",
        "print('Pad sequences (samples x time)')\n",
        "input_train = sequence.pad_sequences(input_train, maxlen=maxlen)\n",
        "input_test = sequence.pad_sequences(input_test, maxlen=maxlen)\n",
        "print('input_train shape:', input_train.shape)\n",
        "print('input_test shape:', input_test.shape)"
      ],
      "execution_count": 0,
      "outputs": [
        {
          "output_type": "stream",
          "text": [
            "Loading data...\n",
            "Downloading data from https://s3.amazonaws.com/text-datasets/imdb.npz\n",
            "17465344/17464789 [==============================] - 0s 0us/step\n",
            "25000 train sequences\n",
            "25000 test sequences\n",
            "Pad sequences (samples x time)\n",
            "input_train shape: (25000, 500)\n",
            "input_test shape: (25000, 500)\n"
          ],
          "name": "stdout"
        }
      ]
    },
    {
      "cell_type": "markdown",
      "metadata": {
        "id": "ROmiUGYCNNQy",
        "colab_type": "text"
      },
      "source": [
        "**Training the model with Embedding and SimpleRNN layers**\n"
      ]
    },
    {
      "cell_type": "code",
      "metadata": {
        "id": "AqVb1AWlNR_H",
        "colab_type": "code",
        "outputId": "3bbd8182-ba16-4fcd-e7ee-685207c4f2a3",
        "colab": {
          "base_uri": "https://localhost:8080/",
          "height": 632
        }
      },
      "source": [
        "from keras.layers import Dense\n",
        "from keras.layers import Embedding, SimpleRNN\n",
        "from keras.models import Sequential\n",
        "\n",
        "modelr = Sequential()\n",
        "modelr.add(Embedding(max_features, 32))\n",
        "modelr.add(SimpleRNN(32))\n",
        "modelr.add(Dense(1, activation='sigmoid'))\n",
        "modelr.summary()\n",
        "modelr.compile(optimizer='rmsprop', loss='binary_crossentropy', metrics=['acc'])\n",
        "history = modelr.fit(input_train, y_train, \n",
        "                    epochs=10,\n",
        "                    batch_size=128,\n",
        "                    validation_split=0.2)"
      ],
      "execution_count": 0,
      "outputs": [
        {
          "output_type": "stream",
          "text": [
            "Model: \"sequential_3\"\n",
            "_________________________________________________________________\n",
            "Layer (type)                 Output Shape              Param #   \n",
            "=================================================================\n",
            "embedding_1 (Embedding)      (None, None, 32)          320000    \n",
            "_________________________________________________________________\n",
            "simple_rnn_1 (SimpleRNN)     (None, 32)                2080      \n",
            "_________________________________________________________________\n",
            "dense_5 (Dense)              (None, 1)                 33        \n",
            "=================================================================\n",
            "Total params: 322,113\n",
            "Trainable params: 322,113\n",
            "Non-trainable params: 0\n",
            "_________________________________________________________________\n",
            "Train on 20000 samples, validate on 5000 samples\n",
            "Epoch 1/10\n",
            "20000/20000 [==============================] - 25s 1ms/step - loss: 0.5700 - acc: 0.6989 - val_loss: 0.3956 - val_acc: 0.8336\n",
            "Epoch 2/10\n",
            "20000/20000 [==============================] - 25s 1ms/step - loss: 0.3487 - acc: 0.8549 - val_loss: 0.3984 - val_acc: 0.8228\n",
            "Epoch 3/10\n",
            "20000/20000 [==============================] - 25s 1ms/step - loss: 0.2635 - acc: 0.8959 - val_loss: 0.3734 - val_acc: 0.8656\n",
            "Epoch 4/10\n",
            "20000/20000 [==============================] - 25s 1ms/step - loss: 0.2213 - acc: 0.9134 - val_loss: 0.4007 - val_acc: 0.8276\n",
            "Epoch 5/10\n",
            "20000/20000 [==============================] - 25s 1ms/step - loss: 0.1505 - acc: 0.9461 - val_loss: 0.4159 - val_acc: 0.8446\n",
            "Epoch 6/10\n",
            "20000/20000 [==============================] - 25s 1ms/step - loss: 0.1112 - acc: 0.9625 - val_loss: 0.4459 - val_acc: 0.8640\n",
            "Epoch 7/10\n",
            "20000/20000 [==============================] - 25s 1ms/step - loss: 0.0749 - acc: 0.9755 - val_loss: 0.5291 - val_acc: 0.8328\n",
            "Epoch 8/10\n",
            "20000/20000 [==============================] - 25s 1ms/step - loss: 0.0560 - acc: 0.9825 - val_loss: 0.5921 - val_acc: 0.8142\n",
            "Epoch 9/10\n",
            "20000/20000 [==============================] - 25s 1ms/step - loss: 0.0369 - acc: 0.9888 - val_loss: 0.5452 - val_acc: 0.8484\n",
            "Epoch 10/10\n",
            "20000/20000 [==============================] - 25s 1ms/step - loss: 0.0320 - acc: 0.9899 - val_loss: 0.5602 - val_acc: 0.8468\n"
          ],
          "name": "stdout"
        }
      ]
    },
    {
      "cell_type": "code",
      "metadata": {
        "id": "8_mUup8UMdlZ",
        "colab_type": "code",
        "outputId": "c4376705-66ac-49b1-e766-4ba6ccd9514f",
        "colab": {
          "base_uri": "https://localhost:8080/",
          "height": 545
        }
      },
      "source": [
        "#import matplotlib.pyplot as plt\n",
        "\n",
        "accr = history.history['acc']\n",
        "val_accr = history.history['val_acc']\n",
        "lossr = history.history['loss']\n",
        "val_lossr = history.history['val_loss']\n",
        "\n",
        "epochsr = range(1, len(accr) + 1)\n",
        "\n",
        "plt.plot(epochsr, accr, 'bo', label='Training acc')\n",
        "plt.plot(epochsr, val_accr, 'b', label='Validation acc')\n",
        "plt.title('Training and validation accuracy')\n",
        "plt.legend()\n",
        "\n",
        "plt.figure()\n",
        "\n",
        "plt.plot(epochsr, lossr, 'bo', label='Training loss')\n",
        "plt.plot(epochsr, val_lossr, 'b', label='Validation loss')\n",
        "plt.title('Training and validation loss')\n",
        "plt.legend()\n",
        "\n",
        "plt.show()"
      ],
      "execution_count": 0,
      "outputs": [
        {
          "output_type": "display_data",
          "data": {
            "image/png": "[encoded data removed]",
            "text/plain": [
              "<Figure size 432x288 with 1 Axes>"
            ]
          },
          "metadata": {
            "tags": []
          }
        },
        {
          "output_type": "display_data",
          "data": {
            "image/png": "[encoded data removed]",
            "text/plain": [
              "<Figure size 432x288 with 1 Axes>"
            ]
          },
          "metadata": {
            "tags": []
          }
        }
      ]
    },
    {
      "cell_type": "markdown",
      "metadata": {
        "id": "Kron8Ai1Ou7m",
        "colab_type": "text"
      },
      "source": [
        "**Training the model with Embedding and SimpleRNN layers**\n"
      ]
    },
    {
      "cell_type": "code",
      "metadata": {
        "id": "oSpbSolxOyGo",
        "colab_type": "code",
        "outputId": "a9f2dd79-6949-468e-87d9-4c0871ee63cd",
        "colab": {
          "base_uri": "https://localhost:8080/",
          "height": 394
        }
      },
      "source": [
        "from keras.layers import LSTM\n",
        "\n",
        "modele = Sequential()\n",
        "modele.add(Embedding(max_features, 32))\n",
        "modele.add(LSTM(32))\n",
        "modele.add(Dense(1, activation='sigmoid'))\n",
        "modele.compile(optimizer='rmsprop',\n",
        "loss='binary_crossentropy',\n",
        "metrics=['acc'])\n",
        "historye = modele.fit(input_train, y_train,\n",
        "                    epochs=10,\n",
        "                    batch_size=128,\n",
        "                    validation_split=0.2)"
      ],
      "execution_count": 0,
      "outputs": [
        {
          "output_type": "stream",
          "text": [
            "Train on 20000 samples, validate on 5000 samples\n",
            "Epoch 1/10\n",
            "20000/20000 [==============================] - 102s 5ms/step - loss: 0.4972 - acc: 0.7662 - val_loss: 0.3791 - val_acc: 0.8430\n",
            "Epoch 2/10\n",
            "20000/20000 [==============================] - 101s 5ms/step - loss: 0.3086 - acc: 0.8807 - val_loss: 0.3639 - val_acc: 0.8544\n",
            "Epoch 3/10\n",
            "20000/20000 [==============================] - 102s 5ms/step - loss: 0.2318 - acc: 0.9147 - val_loss: 0.3892 - val_acc: 0.8536\n",
            "Epoch 4/10\n",
            "20000/20000 [==============================] - 101s 5ms/step - loss: 0.2009 - acc: 0.9257 - val_loss: 0.3461 - val_acc: 0.8850\n",
            "Epoch 5/10\n",
            "20000/20000 [==============================] - 102s 5ms/step - loss: 0.1761 - acc: 0.9352 - val_loss: 0.3339 - val_acc: 0.8812\n",
            "Epoch 6/10\n",
            "20000/20000 [==============================] - 102s 5ms/step - loss: 0.1573 - acc: 0.9427 - val_loss: 0.3061 - val_acc: 0.8850\n",
            "Epoch 7/10\n",
            "20000/20000 [==============================] - 101s 5ms/step - loss: 0.1416 - acc: 0.9489 - val_loss: 0.3358 - val_acc: 0.8790\n",
            "Epoch 8/10\n",
            "20000/20000 [==============================] - 102s 5ms/step - loss: 0.1312 - acc: 0.9550 - val_loss: 0.3700 - val_acc: 0.8766\n",
            "Epoch 9/10\n",
            "20000/20000 [==============================] - 101s 5ms/step - loss: 0.1196 - acc: 0.9584 - val_loss: 0.4373 - val_acc: 0.8566\n",
            "Epoch 10/10\n",
            "20000/20000 [==============================] - 102s 5ms/step - loss: 0.1123 - acc: 0.9619 - val_loss: 0.4445 - val_acc: 0.8604\n"
          ],
          "name": "stdout"
        }
      ]
    },
    {
      "cell_type": "code",
      "metadata": {
        "id": "VUwc2TZ0O9C-",
        "colab_type": "code",
        "outputId": "331ebcdb-63c9-4767-91db-783a9bdf5cf1",
        "colab": {
          "base_uri": "https://localhost:8080/",
          "height": 545
        }
      },
      "source": [
        "#import matplotlib.pyplot as plt\n",
        "\n",
        "acce = historye.history['acc']\n",
        "val_acce = historye.history['val_acc']\n",
        "losse = historye.history['loss']\n",
        "val_losse = historye.history['val_loss']\n",
        "\n",
        "epochse = range(1, len(acce) + 1)\n",
        "\n",
        "plt.plot(epochse, acce, 'bo', label='Training acc')\n",
        "plt.plot(epochse, val_acce, 'b', label='Validation acc')\n",
        "plt.title('Training and validation accuracy')\n",
        "plt.legend()\n",
        "\n",
        "plt.figure()\n",
        "\n",
        "plt.plot(epochse, losse, 'bo', label='Training loss')\n",
        "plt.plot(epochse, val_losse, 'b', label='Validation loss')\n",
        "plt.title('Training and validation loss')\n",
        "plt.legend()\n",
        "\n",
        "plt.show()"
      ],
      "execution_count": 0,
      "outputs": [
        {
          "output_type": "display_data",
          "data": {
            "image/png": "[encoded data removed]",
            "text/plain": [
              "<Figure size 432x288 with 1 Axes>"
            ]
          },
          "metadata": {
            "tags": []
          }
        },
        {
          "output_type": "display_data",
          "data": {
            "image/png": "[encoded data removed]",
            "text/plain": [
              "<Figure size 432x288 with 1 Axes>"
            ]
          },
          "metadata": {
            "tags": []
          }
        }
      ]
    },
    {
      "cell_type": "markdown",
      "metadata": {
        "id": "z4xesDlyTcCb",
        "colab_type": "text"
      },
      "source": [
        "##Part 4\n"
      ]
    },
    {
      "cell_type": "code",
      "metadata": {
        "id": "WxzdY0gdemqq",
        "colab_type": "code",
        "outputId": "07a324b1-9486-40f4-83ea-e3c0a114e6b3",
        "colab": {
          "base_uri": "https://localhost:8080/",
          "height": 34
        }
      },
      "source": [
        "import os\n",
        "os.getcwd()"
      ],
      "execution_count": 1,
      "outputs": [
        {
          "output_type": "execute_result",
          "data": {
            "text/plain": [
              "'/content'"
            ]
          },
          "metadata": {
            "tags": []
          },
          "execution_count": 1
        }
      ]
    },
    {
      "cell_type": "markdown",
      "metadata": {
        "id": "7jCyrI0OTey0",
        "colab_type": "text"
      },
      "source": [
        "Downlaod images as data from Kaggle, and build a CNN"
      ]
    },
    {
      "cell_type": "code",
      "metadata": {
        "id": "cOKFnqIsTk_8",
        "colab_type": "code",
        "outputId": "472ce4fd-4b79-455d-aa51-2734b38e1f8d",
        "colab": {
          "base_uri": "https://localhost:8080/",
          "height": 34
        }
      },
      "source": [
        "#Upload the data\n",
        "# Upload data\n",
        "from zipfile import ZipFile\n",
        "\n",
        "file_name = \"/content/Archivo.zip\"\n",
        "\n",
        "with ZipFile(file_name, 'r') as zip:\n",
        "  zip.extractall()\n",
        "  print('done')"
      ],
      "execution_count": 2,
      "outputs": [
        {
          "output_type": "stream",
          "text": [
            "done\n"
          ],
          "name": "stdout"
        }
      ]
    },
    {
      "cell_type": "code",
      "metadata": {
        "id": "xjtnGorDTeOM",
        "colab_type": "code",
        "outputId": "26fe02ea-e455-4bd4-90b7-e84585a7fb1d",
        "colab": {
          "base_uri": "https://localhost:8080/",
          "height": 34
        }
      },
      "source": [
        "data_dir_list = os.listdir('/content')\n",
        "#print(data_dir_list2)\n",
        "\n",
        "#Number of files paper\n",
        "path, dirs, files = next(os.walk(\"/content/paper\"))\n",
        "file_count = len(files)\n",
        "print(file_count)"
      ],
      "execution_count": 3,
      "outputs": [
        {
          "output_type": "stream",
          "text": [
            "712\n"
          ],
          "name": "stdout"
        }
      ]
    },
    {
      "cell_type": "code",
      "metadata": {
        "id": "YTojxTc4VA3Q",
        "colab_type": "code",
        "outputId": "b10fb47c-791a-4bd9-8902-efe10a24495c",
        "colab": {
          "base_uri": "https://localhost:8080/",
          "height": 34
        }
      },
      "source": [
        "#Number of files rock\n",
        "path2, dirs2, files2 = next(os.walk(\"/content/rock\"))\n",
        "file_count2 = len(files2)\n",
        "print(file_count2)"
      ],
      "execution_count": 4,
      "outputs": [
        {
          "output_type": "stream",
          "text": [
            "726\n"
          ],
          "name": "stdout"
        }
      ]
    },
    {
      "cell_type": "code",
      "metadata": {
        "id": "afGoPiCMVMVU",
        "colab_type": "code",
        "outputId": "46aaf37b-427e-4337-9fd1-3684136cf00d",
        "colab": {
          "base_uri": "https://localhost:8080/",
          "height": 34
        }
      },
      "source": [
        "#Number of files scissor\n",
        "path3, dirs3, files3 = next(os.walk(\"/content/scissors\"))\n",
        "file_count3 = len(files3)\n",
        "print(file_count3)"
      ],
      "execution_count": 5,
      "outputs": [
        {
          "output_type": "stream",
          "text": [
            "750\n"
          ],
          "name": "stdout"
        }
      ]
    },
    {
      "cell_type": "code",
      "metadata": {
        "id": "mIgTW5DSRue5",
        "colab_type": "code",
        "colab": {}
      },
      "source": [
        "original_dataset_dir2 = '/content'\n",
        "base_dir = '/content/rock_paper_scissor_small4'\n",
        "os.mkdir(base_dir)"
      ],
      "execution_count": 0,
      "outputs": []
    },
    {
      "cell_type": "code",
      "metadata": {
        "id": "MtieUtWzR-sO",
        "colab_type": "code",
        "colab": {}
      },
      "source": [
        "train_dir = os.path.join(base_dir, 'train')\n",
        "os.mkdir(train_dir)\n",
        "\n",
        "validation_dir = os.path.join(base_dir, 'validation')\n",
        "os.mkdir(validation_dir)\n",
        "\n",
        "test_dir = os.path.join(base_dir, 'test')\n",
        "os.mkdir(test_dir)\n",
        "\n",
        "train_rock_dir = os.path.join(train_dir, 'rock')\n",
        "os.mkdir(train_rock_dir)\n",
        "\n",
        "train_scissor_dir = os.path.join(train_dir, 'scissor')\n",
        "os.mkdir(train_scissor_dir)\n",
        "\n",
        "train_paper_dir = os.path.join(train_dir, 'paper')\n",
        "os.mkdir(train_paper_dir)\n",
        "\n",
        "validation_rock_dir = os.path.join(validation_dir, 'rock')\n",
        "os.mkdir(validation_rock_dir)\n",
        "\n",
        "validation_scissor_dir = os.path.join(validation_dir, 'scissor')\n",
        "os.mkdir(validation_scissor_dir)\n",
        "\n",
        "validation_paper_dir = os.path.join(validation_dir, 'paper')\n",
        "os.mkdir(validation_paper_dir)\n",
        "\n",
        "test_rock_dir = os.path.join(test_dir, 'rock')\n",
        "os.mkdir(test_rock_dir)\n",
        "\n",
        "test_scissor_dir = os.path.join(test_dir, 'scissor')\n",
        "os.mkdir(test_scissor_dir)\n",
        "\n",
        "test_paper_dir = os.path.join(test_dir, 'paper')\n",
        "os.mkdir(test_paper_dir)"
      ],
      "execution_count": 0,
      "outputs": []
    },
    {
      "cell_type": "code",
      "metadata": {
        "id": "kmIKqYCWLMBD",
        "colab_type": "code",
        "colab": {}
      },
      "source": [
        "#Rename the paper file\n",
        "\n",
        "i = 0\n",
        "\n",
        "for filename in os.listdir('/content/paper'): \n",
        "  dst =\"paper\" + str(i) + \".jpg\"\n",
        "  src = filename  #'/content/paper1' + \n",
        "  #dst ='/content/paper'+ dst \n",
        "  # rename() function will \n",
        "  # rename all the files \n",
        "  #os.rename(src, dst) \n",
        "  \n",
        "  old_file = os.path.join('/content/paper', filename)\n",
        "  new_file = os.path.join('/content/paper', dst)\n",
        "  os.rename(old_file, new_file)\n",
        "  i += 1"
      ],
      "execution_count": 0,
      "outputs": []
    },
    {
      "cell_type": "code",
      "metadata": {
        "id": "OstRnBSkUUxD",
        "colab_type": "code",
        "colab": {}
      },
      "source": [
        "#Rename the rock file\n",
        "\n",
        "i = 0\n",
        "\n",
        "for filename in os.listdir('/content/rock'): \n",
        "  dst =\"rock\" + str(i) + \".jpg\"\n",
        "  src = filename  #'/content/paper1' + \n",
        "  #dst ='/content/paper'+ dst \n",
        "  # rename() function will \n",
        "  # rename all the files \n",
        "  #os.rename(src, dst) \n",
        "  \n",
        "  old_file = os.path.join('/content/rock', filename)\n",
        "  new_file = os.path.join('/content/rock', dst)\n",
        "  os.rename(old_file, new_file)\n",
        "  i += 1"
      ],
      "execution_count": 0,
      "outputs": []
    },
    {
      "cell_type": "code",
      "metadata": {
        "id": "HX_efMYaUtse",
        "colab_type": "code",
        "colab": {}
      },
      "source": [
        "#Rename the scissor file\n",
        "\n",
        "i = 0\n",
        "\n",
        "for filename in os.listdir('/content/scissors'): \n",
        "  dst =\"scissor\" + str(i) + \".jpg\"\n",
        "  src = filename  #'/content/paper1' + \n",
        "  #dst ='/content/paper'+ dst \n",
        "  # rename() function will \n",
        "  # rename all the files \n",
        "  #os.rename(src, dst) \n",
        "  \n",
        "  old_file = os.path.join('/content/scissors', filename)\n",
        "  new_file = os.path.join('/content/scissors', dst)\n",
        "  os.rename(old_file, new_file)\n",
        "  i += 1"
      ],
      "execution_count": 0,
      "outputs": []
    },
    {
      "cell_type": "code",
      "metadata": {
        "id": "XzljiujnTXta",
        "colab_type": "code",
        "colab": {}
      },
      "source": [
        "import shutil\n",
        "fnames = ['rock{}.jpg'.format(i) for i in range(508)]\n",
        "for fname in fnames:\n",
        "    src = os.path.join('/content/rock', fname)\n",
        "    dst = os.path.join('/content/rock_paper_scissor_small4/train/rock', fname)\n",
        "    #print(src,dst)\n",
        "    shutil.copyfile(src, dst)\n",
        "\n",
        "fnames = ['rock{}.jpg'.format(i) for i in range(508, 617)]\n",
        "for fname in fnames:\n",
        "    src = os.path.join('/content/rock', fname)\n",
        "    dst = os.path.join('/content/rock_paper_scissor_small4/validation/rock', fname)\n",
        "    shutil.copyfile(src, dst)\n",
        "\n",
        "fnames = ['rock{}.jpg'.format(i) for i in range(617, 726)]\n",
        "for fname in fnames:\n",
        "    src = os.path.join('/content/rock', fname)\n",
        "    dst = os.path.join('/content/rock_paper_scissor_small4/test/rock', fname)\n",
        "    shutil.copyfile(src, dst)\n",
        "    \n",
        "\n",
        "fnames = ['scissor{}.jpg'.format(i) for i in range(525)]\n",
        "for fname in fnames:\n",
        "    src = os.path.join('/content/scissors', fname)\n",
        "    dst = os.path.join('/content/rock_paper_scissor_small4/train/scissor', fname)\n",
        "    shutil.copyfile(src, dst)\n",
        "\n",
        "fnames = ['scissor{}.jpg'.format(i) for i in range(525, 638)]\n",
        "for fname in fnames:\n",
        "    src = os.path.join('/content/scissors', fname)\n",
        "    dst = os.path.join('/content/rock_paper_scissor_small4/validation/scissor', fname)\n",
        "    shutil.copyfile(src, dst)\n",
        "\n",
        "fnames = ['scissor{}.jpg'.format(i) for i in range(638, 750)]\n",
        "for fname in fnames:\n",
        "    src = os.path.join('/content/scissors', fname)\n",
        "    dst = os.path.join('/content/rock_paper_scissor_small4/test/scissor', fname)\n",
        "    shutil.copyfile(src, dst)\n",
        "\n"
      ],
      "execution_count": 0,
      "outputs": []
    },
    {
      "cell_type": "code",
      "metadata": {
        "id": "mpi7SGBdaFvA",
        "colab_type": "code",
        "colab": {}
      },
      "source": [
        "fnames = ['paper{}.jpg'.format(i) for i in range(498)]\n",
        "for fname in fnames:\n",
        "    src = os.path.join('/content/paper', fname)\n",
        "    dst = os.path.join('/content/rock_paper_scissor_small4/train/paper', fname)\n",
        "    shutil.copyfile(src, dst)\n",
        "\n",
        "fnames = ['paper{}.jpg'.format(i) for i in range(498, 605)]\n",
        "for fname in fnames:\n",
        "  src = os.path.join('/content/paper', fname)\n",
        "  dst = os.path.join('/content/rock_paper_scissor_small4/validation/paper', fname)\n",
        "  shutil.copyfile(src, dst)\n",
        "\n",
        "fnames = ['paper{}.jpg'.format(i) for i in range(605, 712)]\n",
        "for fname in fnames:\n",
        "    src = os.path.join('/content/paper', fname)\n",
        "    dst = os.path.join('/content/rock_paper_scissor_small4/test/paper', fname)\n",
        "    shutil.copyfile(src, dst)"
      ],
      "execution_count": 0,
      "outputs": []
    },
    {
      "cell_type": "code",
      "metadata": {
        "id": "K8BzTZQXPnnU",
        "colab_type": "code",
        "colab": {
          "base_uri": "https://localhost:8080/",
          "height": 170
        },
        "outputId": "979b0a61-3c11-4fff-c7dc-a920919943c5"
      },
      "source": [
        "print('total training paper images:', len(os.listdir(train_paper_dir)))\n",
        "print('total training rock images:', len(os.listdir(train_rock_dir)))\n",
        "print('total training scissor images:', len(os.listdir(train_scissor_dir)))\n",
        "\n",
        "print('total validation paper images:', len(os.listdir(validation_paper_dir)))\n",
        "print('total validation rock images:', len(os.listdir(validation_rock_dir)))\n",
        "print('total validation scissor images:', len(os.listdir(validation_scissor_dir)))\n",
        "\n",
        "print('total test paper images:', len(os.listdir(test_paper_dir)))\n",
        "print('total test rock images:', len(os.listdir(test_rock_dir)))\n",
        "print('total test scissor images:', len(os.listdir(test_scissor_dir)))"
      ],
      "execution_count": 15,
      "outputs": [
        {
          "output_type": "stream",
          "text": [
            "total training paper images: 498\n",
            "total training rock images: 508\n",
            "total training scissor images: 525\n",
            "total validation paper images: 107\n",
            "total validation rock images: 109\n",
            "total validation scissor images: 113\n",
            "total test paper images: 197\n",
            "total test rock images: 109\n",
            "total test scissor images: 112\n"
          ],
          "name": "stdout"
        }
      ]
    },
    {
      "cell_type": "code",
      "metadata": {
        "id": "-YBfyxccREiQ",
        "colab_type": "code",
        "colab": {
          "base_uri": "https://localhost:8080/",
          "height": 763
        },
        "outputId": "16ac288f-2586-4131-e172-8b7340668dbb"
      },
      "source": [
        "from keras import layers\n",
        "from keras import models\n",
        "\n",
        "model = models.Sequential()\n",
        "model.add(layers.Conv2D(32, (3, 3), activation='relu', input_shape=(150, 150, 3)))\n",
        "model.add(layers.MaxPooling2D((2, 2)))\n",
        "model.add(layers.Conv2D(64, (3, 3), activation='relu'))\n",
        "model.add(layers.MaxPooling2D((2, 2)))\n",
        "model.add(layers.Conv2D(128, (3, 3), activation='relu'))\n",
        "model.add(layers.MaxPooling2D((2, 2)))\n",
        "model.add(layers.Conv2D(128, (3, 3), activation='relu'))\n",
        "model.add(layers.MaxPooling2D((2, 2)))\n",
        "model.add(layers.Flatten())\n",
        "model.add(layers.Dense(512, activation='relu'))\n",
        "model.add(layers.Dense(1, activation='sigmoid'))\n",
        "model.summary()"
      ],
      "execution_count": 16,
      "outputs": [
        {
          "output_type": "stream",
          "text": [
            "Using TensorFlow backend.\n"
          ],
          "name": "stderr"
        },
        {
          "output_type": "display_data",
          "data": {
            "text/html": [
              "<p style=\"color: red;\">\n",
              "The default version of TensorFlow in Colab will soon switch to TensorFlow 2.x.<br>\n",
              "We recommend you <a href=\"https://www.tensorflow.org/guide/migrate\" target=\"_blank\">upgrade</a> now \n",
              "or ensure your notebook will continue to use TensorFlow 1.x via the <code>%tensorflow_version 1.x</code> magic:\n",
              "<a href=\"https://colab.research.google.com/notebooks/tensorflow_version.ipynb\" target=\"_blank\">more info</a>.</p>\n"
            ],
            "text/plain": [
              "<IPython.core.display.HTML object>"
            ]
          },
          "metadata": {
            "tags": []
          }
        },
        {
          "output_type": "stream",
          "text": [
            "WARNING:tensorflow:From /usr/local/lib/python3.6/dist-packages/keras/backend/tensorflow_backend.py:66: The name tf.get_default_graph is deprecated. Please use tf.compat.v1.get_default_graph instead.\n",
            "\n",
            "WARNING:tensorflow:From /usr/local/lib/python3.6/dist-packages/keras/backend/tensorflow_backend.py:541: The name tf.placeholder is deprecated. Please use tf.compat.v1.placeholder instead.\n",
            "\n",
            "WARNING:tensorflow:From /usr/local/lib/python3.6/dist-packages/keras/backend/tensorflow_backend.py:4432: The name tf.random_uniform is deprecated. Please use tf.random.uniform instead.\n",
            "\n",
            "WARNING:tensorflow:From /usr/local/lib/python3.6/dist-packages/keras/backend/tensorflow_backend.py:4267: The name tf.nn.max_pool is deprecated. Please use tf.nn.max_pool2d instead.\n",
            "\n",
            "Model: \"sequential_1\"\n",
            "_________________________________________________________________\n",
            "Layer (type)                 Output Shape              Param #   \n",
            "=================================================================\n",
            "conv2d_1 (Conv2D)            (None, 148, 148, 32)      896       \n",
            "_________________________________________________________________\n",
            "max_pooling2d_1 (MaxPooling2 (None, 74, 74, 32)        0         \n",
            "_________________________________________________________________\n",
            "conv2d_2 (Conv2D)            (None, 72, 72, 64)        18496     \n",
            "_________________________________________________________________\n",
            "max_pooling2d_2 (MaxPooling2 (None, 36, 36, 64)        0         \n",
            "_________________________________________________________________\n",
            "conv2d_3 (Conv2D)            (None, 34, 34, 128)       73856     \n",
            "_________________________________________________________________\n",
            "max_pooling2d_3 (MaxPooling2 (None, 17, 17, 128)       0         \n",
            "_________________________________________________________________\n",
            "conv2d_4 (Conv2D)            (None, 15, 15, 128)       147584    \n",
            "_________________________________________________________________\n",
            "max_pooling2d_4 (MaxPooling2 (None, 7, 7, 128)         0         \n",
            "_________________________________________________________________\n",
            "flatten_1 (Flatten)          (None, 6272)              0         \n",
            "_________________________________________________________________\n",
            "dense_1 (Dense)              (None, 512)               3211776   \n",
            "_________________________________________________________________\n",
            "dense_2 (Dense)              (None, 1)                 513       \n",
            "=================================================================\n",
            "Total params: 3,453,121\n",
            "Trainable params: 3,453,121\n",
            "Non-trainable params: 0\n",
            "_________________________________________________________________\n"
          ],
          "name": "stdout"
        }
      ]
    },
    {
      "cell_type": "code",
      "metadata": {
        "id": "HCbGpvA_RL1U",
        "colab_type": "code",
        "colab": {
          "base_uri": "https://localhost:8080/",
          "height": 156
        },
        "outputId": "cc14d646-c79c-4557-e8a2-13a6ac7f2c86"
      },
      "source": [
        "from keras import optimizers\n",
        "model.compile(loss='binary_crossentropy', \n",
        "              optimizer=optimizers.RMSprop(lr=1e-4),\n",
        "              metrics=['acc'])"
      ],
      "execution_count": 17,
      "outputs": [
        {
          "output_type": "stream",
          "text": [
            "WARNING:tensorflow:From /usr/local/lib/python3.6/dist-packages/keras/optimizers.py:793: The name tf.train.Optimizer is deprecated. Please use tf.compat.v1.train.Optimizer instead.\n",
            "\n",
            "WARNING:tensorflow:From /usr/local/lib/python3.6/dist-packages/keras/backend/tensorflow_backend.py:3657: The name tf.log is deprecated. Please use tf.math.log instead.\n",
            "\n",
            "WARNING:tensorflow:From /usr/local/lib/python3.6/dist-packages/tensorflow_core/python/ops/nn_impl.py:183: where (from tensorflow.python.ops.array_ops) is deprecated and will be removed in a future version.\n",
            "Instructions for updating:\n",
            "Use tf.where in 2.0, which has the same broadcast rule as np.where\n"
          ],
          "name": "stdout"
        }
      ]
    },
    {
      "cell_type": "code",
      "metadata": {
        "id": "5xxeii1URRB5",
        "colab_type": "code",
        "colab": {
          "base_uri": "https://localhost:8080/",
          "height": 51
        },
        "outputId": "3d7a148d-ddeb-429c-84cb-da3cb18d56b1"
      },
      "source": [
        "from keras.preprocessing.image import ImageDataGenerator\n",
        "\n",
        "train_datagen = ImageDataGenerator(rescale=1./255)\n",
        "test_datagen = ImageDataGenerator(rescale=1./255)\n",
        "\n",
        "train_generator = train_datagen.flow_from_directory(train_dir,\n",
        "                                                    target_size=(150, 150), \n",
        "                                                    batch_size=20,\n",
        "                                                    class_mode='binary')\n",
        "\n",
        "validation_generator = test_datagen.flow_from_directory(validation_dir,\n",
        "                                                        target_size=(150, 150),\n",
        "                                                        batch_size=20,\n",
        "                                                        class_mode='binary')"
      ],
      "execution_count": 18,
      "outputs": [
        {
          "output_type": "stream",
          "text": [
            "Found 1531 images belonging to 3 classes.\n",
            "Found 329 images belonging to 3 classes.\n"
          ],
          "name": "stdout"
        }
      ]
    },
    {
      "cell_type": "code",
      "metadata": {
        "id": "JjaNzF7MRq7D",
        "colab_type": "code",
        "colab": {
          "base_uri": "https://localhost:8080/",
          "height": 1000
        },
        "outputId": "52a7f19e-0d62-4e95-9171-281531861b49"
      },
      "source": [
        "history = model.fit_generator(train_generator,\n",
        "                              steps_per_epoch=100,\n",
        "                              epochs=30,\n",
        "                              validation_data=validation_generator,\n",
        "                              validation_steps=10)"
      ],
      "execution_count": 19,
      "outputs": [
        {
          "output_type": "stream",
          "text": [
            "WARNING:tensorflow:From /usr/local/lib/python3.6/dist-packages/keras/backend/tensorflow_backend.py:1033: The name tf.assign_add is deprecated. Please use tf.compat.v1.assign_add instead.\n",
            "\n",
            "WARNING:tensorflow:From /usr/local/lib/python3.6/dist-packages/keras/backend/tensorflow_backend.py:1020: The name tf.assign is deprecated. Please use tf.compat.v1.assign instead.\n",
            "\n",
            "WARNING:tensorflow:From /usr/local/lib/python3.6/dist-packages/keras/backend/tensorflow_backend.py:3005: The name tf.Session is deprecated. Please use tf.compat.v1.Session instead.\n",
            "\n",
            "Epoch 1/30\n",
            "WARNING:tensorflow:From /usr/local/lib/python3.6/dist-packages/keras/backend/tensorflow_backend.py:190: The name tf.get_default_session is deprecated. Please use tf.compat.v1.get_default_session instead.\n",
            "\n",
            "WARNING:tensorflow:From /usr/local/lib/python3.6/dist-packages/keras/backend/tensorflow_backend.py:197: The name tf.ConfigProto is deprecated. Please use tf.compat.v1.ConfigProto instead.\n",
            "\n",
            "WARNING:tensorflow:From /usr/local/lib/python3.6/dist-packages/keras/backend/tensorflow_backend.py:207: The name tf.global_variables is deprecated. Please use tf.compat.v1.global_variables instead.\n",
            "\n",
            "WARNING:tensorflow:From /usr/local/lib/python3.6/dist-packages/keras/backend/tensorflow_backend.py:216: The name tf.is_variable_initialized is deprecated. Please use tf.compat.v1.is_variable_initialized instead.\n",
            "\n",
            "WARNING:tensorflow:From /usr/local/lib/python3.6/dist-packages/keras/backend/tensorflow_backend.py:223: The name tf.variables_initializer is deprecated. Please use tf.compat.v1.variables_initializer instead.\n",
            "\n",
            "100/100 [==============================] - 19s 195ms/step - loss: 0.0793 - acc: 0.3317 - val_loss: -0.1594 - val_acc: 0.3000\n",
            "Epoch 2/30\n",
            "100/100 [==============================] - 5s 55ms/step - loss: -0.7362 - acc: 0.3221 - val_loss: -0.0844 - val_acc: 0.3810\n",
            "Epoch 3/30\n",
            "100/100 [==============================] - 5s 53ms/step - loss: -0.4756 - acc: 0.3445 - val_loss: -2.1831 - val_acc: 0.3350\n",
            "Epoch 4/30\n",
            "100/100 [==============================] - 6s 58ms/step - loss: -3.7367 - acc: 0.4519 - val_loss: -5.1052 - val_acc: 0.4286\n",
            "Epoch 5/30\n",
            "100/100 [==============================] - 5s 52ms/step - loss: -4.2113 - acc: 0.5093 - val_loss: -4.1541 - val_acc: 0.5350\n",
            "Epoch 6/30\n",
            "100/100 [==============================] - 6s 57ms/step - loss: -4.7672 - acc: 0.5377 - val_loss: -3.9980 - val_acc: 0.5714\n",
            "Epoch 7/30\n",
            "100/100 [==============================] - 5s 53ms/step - loss: -4.7147 - acc: 0.5671 - val_loss: -5.1936 - val_acc: 0.5079\n",
            "Epoch 8/30\n",
            "100/100 [==============================] - 5s 54ms/step - loss: -4.9768 - acc: 0.5794 - val_loss: -4.7181 - val_acc: 0.5550\n",
            "Epoch 9/30\n",
            "100/100 [==============================] - 6s 56ms/step - loss: -5.0320 - acc: 0.5970 - val_loss: -5.6495 - val_acc: 0.5714\n",
            "Epoch 10/30\n",
            "100/100 [==============================] - 5s 52ms/step - loss: -5.0922 - acc: 0.6049 - val_loss: -4.9084 - val_acc: 0.6100\n",
            "Epoch 11/30\n",
            "100/100 [==============================] - 6s 58ms/step - loss: -5.2116 - acc: 0.6118 - val_loss: -4.7626 - val_acc: 0.6402\n",
            "Epoch 12/30\n",
            "100/100 [==============================] - 5s 51ms/step - loss: -5.2105 - acc: 0.6276 - val_loss: -5.2806 - val_acc: 0.5767\n",
            "Epoch 13/30\n",
            "100/100 [==============================] - 5s 54ms/step - loss: -5.1085 - acc: 0.6352 - val_loss: -5.1435 - val_acc: 0.6350\n",
            "Epoch 14/30\n",
            "100/100 [==============================] - 6s 56ms/step - loss: -5.4755 - acc: 0.6255 - val_loss: -5.1857 - val_acc: 0.5926\n",
            "Epoch 15/30\n",
            "100/100 [==============================] - 5s 52ms/step - loss: -5.3039 - acc: 0.6359 - val_loss: -5.1052 - val_acc: 0.6050\n",
            "Epoch 16/30\n",
            "100/100 [==============================] - 6s 57ms/step - loss: -5.3555 - acc: 0.6359 - val_loss: -6.0176 - val_acc: 0.5873\n",
            "Epoch 17/30\n",
            "100/100 [==============================] - 5s 51ms/step - loss: -5.2419 - acc: 0.6475 - val_loss: -4.1578 - val_acc: 0.6455\n",
            "Epoch 18/30\n",
            "100/100 [==============================] - 6s 55ms/step - loss: -5.4431 - acc: 0.6364 - val_loss: -4.7151 - val_acc: 0.6200\n",
            "Epoch 19/30\n",
            "100/100 [==============================] - 6s 56ms/step - loss: -5.2428 - acc: 0.6518 - val_loss: -5.4828 - val_acc: 0.6138\n",
            "Epoch 20/30\n",
            "100/100 [==============================] - 5s 53ms/step - loss: -5.5298 - acc: 0.6395 - val_loss: -4.5482 - val_acc: 0.6400\n",
            "Epoch 21/30\n",
            "100/100 [==============================] - 6s 59ms/step - loss: -5.2830 - acc: 0.6553 - val_loss: -5.2504 - val_acc: 0.5608\n",
            "Epoch 22/30\n",
            "100/100 [==============================] - 5s 52ms/step - loss: -5.4097 - acc: 0.6485 - val_loss: -5.2206 - val_acc: 0.6300\n",
            "Epoch 23/30\n",
            "100/100 [==============================] - 6s 57ms/step - loss: -5.6073 - acc: 0.6411 - val_loss: -5.4035 - val_acc: 0.6190\n",
            "Epoch 24/30\n",
            "100/100 [==============================] - 5s 53ms/step - loss: -5.3447 - acc: 0.6556 - val_loss: -4.8250 - val_acc: 0.6243\n",
            "Epoch 25/30\n",
            "100/100 [==============================] - 5s 53ms/step - loss: -5.5385 - acc: 0.6462 - val_loss: -5.7128 - val_acc: 0.6150\n",
            "Epoch 26/30\n",
            "100/100 [==============================] - 6s 57ms/step - loss: -5.4103 - acc: 0.6592 - val_loss: -5.2594 - val_acc: 0.6190\n",
            "Epoch 27/30\n",
            "100/100 [==============================] - 5s 52ms/step - loss: -5.3020 - acc: 0.6602 - val_loss: -4.7027 - val_acc: 0.6350\n",
            "Epoch 28/30\n",
            "100/100 [==============================] - 6s 57ms/step - loss: -5.5006 - acc: 0.6466 - val_loss: -5.1887 - val_acc: 0.6296\n",
            "Epoch 29/30\n",
            "100/100 [==============================] - 5s 52ms/step - loss: -5.3340 - acc: 0.6614 - val_loss: -4.5425 - val_acc: 0.6561\n",
            "Epoch 30/30\n",
            "100/100 [==============================] - 5s 53ms/step - loss: -5.5462 - acc: 0.6489 - val_loss: -4.8793 - val_acc: 0.6200\n"
          ],
          "name": "stdout"
        }
      ]
    },
    {
      "cell_type": "code",
      "metadata": {
        "id": "r18hzpL0R7Ii",
        "colab_type": "code",
        "colab": {
          "base_uri": "https://localhost:8080/",
          "height": 545
        },
        "outputId": "cc0ef012-9bc5-4fc8-8feb-4be7093b47b3"
      },
      "source": [
        "model.save('rock_paper_scissor_small.h5')\n",
        "\n",
        "import matplotlib.pyplot as plt\n",
        "\n",
        "acc = history.history['acc']\n",
        "val_acc = history.history['val_acc']\n",
        "loss = history.history['loss']\n",
        "val_loss = history.history['val_loss']\n",
        "\n",
        "epochs = range(1, len(acc) + 1)\n",
        "\n",
        "plt.plot(epochs, acc, 'bo', label='Training acc')\n",
        "plt.plot(epochs, val_acc, 'b', label='Validation acc')\n",
        "plt.title('Training and validation accuracy')\n",
        "plt.legend()\n",
        "\n",
        "plt.figure()\n",
        "\n",
        "plt.plot(epochs, loss, 'bo', label='Training loss')\n",
        "plt.plot(epochs, val_loss, 'b', label='Validation loss')\n",
        "plt.title('Training and validation loss')\n",
        "plt.legend()\n",
        "\n",
        "plt.show()"
      ],
      "execution_count": 20,
      "outputs": [
        {
          "output_type": "display_data",
          "data": {
            "image/png": "[encoded data removed]",
            "text/plain": [
              "<Figure size 432x288 with 1 Axes>"
            ]
          },
          "metadata": {
            "tags": []
          }
        },
        {
          "output_type": "display_data",
          "data": {
            "image/png": "[encoded data removed]",
            "text/plain": [
              "<Figure size 432x288 with 1 Axes>"
            ]
          },
          "metadata": {
            "tags": []
          }
        }
      ]
    },
    {
      "cell_type": "markdown",
      "metadata": {
        "id": "EINKDy1oSTT_",
        "colab_type": "text"
      },
      "source": [
        "###Dropout"
      ]
    },
    {
      "cell_type": "code",
      "metadata": {
        "id": "-PeFKx3YSZoM",
        "colab_type": "code",
        "colab": {
          "base_uri": "https://localhost:8080/",
          "height": 122
        },
        "outputId": "43a83af9-7bf6-43de-f052-74e86b95bff1"
      },
      "source": [
        "model = models.Sequential()\n",
        "model.add(layers.Conv2D(32, (3, 3), activation='relu',\n",
        "input_shape=(150, 150, 3)))\n",
        "model.add(layers.MaxPooling2D((2, 2)))\n",
        "model.add(layers.Conv2D(64, (3, 3), activation='relu'))\n",
        "model.add(layers.MaxPooling2D((2, 2)))\n",
        "model.add(layers.Conv2D(128, (3, 3), activation='relu'))\n",
        "model.add(layers.MaxPooling2D((2, 2)))\n",
        "model.add(layers.Conv2D(128, (3, 3), activation='relu'))\n",
        "model.add(layers.MaxPooling2D((2, 2)))\n",
        "model.add(layers.Flatten())\n",
        "model.add(layers.Dropout(0.5))\n",
        "model.add(layers.Dense(512, activation='relu'))\n",
        "model.add(layers.Dense(1, activation='sigmoid'))\n",
        "\n",
        "model.compile(loss='binary_crossentropy',\n",
        "              optimizer=optimizers.RMSprop(lr=1e-4),\n",
        "              metrics=['acc'])"
      ],
      "execution_count": 21,
      "outputs": [
        {
          "output_type": "stream",
          "text": [
            "WARNING:tensorflow:From /usr/local/lib/python3.6/dist-packages/keras/backend/tensorflow_backend.py:148: The name tf.placeholder_with_default is deprecated. Please use tf.compat.v1.placeholder_with_default instead.\n",
            "\n",
            "WARNING:tensorflow:From /usr/local/lib/python3.6/dist-packages/keras/backend/tensorflow_backend.py:3733: calling dropout (from tensorflow.python.ops.nn_ops) with keep_prob is deprecated and will be removed in a future version.\n",
            "Instructions for updating:\n",
            "Please use `rate` instead of `keep_prob`. Rate should be set to `rate = 1 - keep_prob`.\n"
          ],
          "name": "stdout"
        }
      ]
    },
    {
      "cell_type": "code",
      "metadata": {
        "id": "BCc9oZIVSXL_",
        "colab_type": "code",
        "colab": {
          "base_uri": "https://localhost:8080/",
          "height": 751
        },
        "outputId": "1e38acae-56cb-4277-d8b0-4549e2f1f4ad"
      },
      "source": [
        "train_datagen = ImageDataGenerator(rescale=1./255,\n",
        "                                   rotation_range=40,\n",
        "                                   width_shift_range=0.2,\n",
        "                                   height_shift_range=0.2,\n",
        "                                   shear_range=0.2,\n",
        "                                   zoom_range=0.2,\n",
        "                                   horizontal_flip=True,)\n",
        "\n",
        "test_datagen = ImageDataGenerator(rescale=1./255)\n",
        "\n",
        "train_generator = train_datagen.flow_from_directory(train_dir,\n",
        "                                                    target_size=(150, 150),\n",
        "                                                    batch_size=32,\n",
        "                                                    class_mode='binary')\n",
        "\n",
        "validation_generator = test_datagen.flow_from_directory(validation_dir,\n",
        "                                                        target_size=(150, 150),\n",
        "                                                        batch_size=32,\n",
        "                                                        class_mode='binary')\n",
        "\n",
        "history = model.fit_generator(train_generator,\n",
        "                              steps_per_epoch=100,\n",
        "                              epochs=20,\n",
        "                              validation_data=validation_generator,\n",
        "                              validation_steps=50)\n"
      ],
      "execution_count": 22,
      "outputs": [
        {
          "output_type": "stream",
          "text": [
            "Found 1531 images belonging to 3 classes.\n",
            "Found 329 images belonging to 3 classes.\n",
            "Epoch 1/20\n",
            "100/100 [==============================] - 27s 265ms/step - loss: -0.2232 - acc: 0.3326 - val_loss: -0.2326 - val_acc: 0.3289\n",
            "Epoch 2/20\n",
            "100/100 [==============================] - 23s 235ms/step - loss: -0.3238 - acc: 0.3277 - val_loss: -0.3543 - val_acc: 0.3313\n",
            "Epoch 3/20\n",
            "100/100 [==============================] - 24s 237ms/step - loss: -0.2373 - acc: 0.3397 - val_loss: -0.3912 - val_acc: 0.3309\n",
            "Epoch 4/20\n",
            "100/100 [==============================] - 24s 236ms/step - loss: -0.3022 - acc: 0.3250 - val_loss: -0.2147 - val_acc: 0.3320\n",
            "Epoch 5/20\n",
            "100/100 [==============================] - 24s 237ms/step - loss: -0.2111 - acc: 0.3349 - val_loss: -0.2854 - val_acc: 0.3349\n",
            "Epoch 6/20\n",
            "100/100 [==============================] - 24s 236ms/step - loss: -0.4198 - acc: 0.3272 - val_loss: -0.2469 - val_acc: 0.3286\n",
            "Epoch 7/20\n",
            "100/100 [==============================] - 24s 239ms/step - loss: -0.0906 - acc: 0.3363 - val_loss: -0.3277 - val_acc: 0.3322\n",
            "Epoch 8/20\n",
            "100/100 [==============================] - 24s 236ms/step - loss: -0.4484 - acc: 0.3342 - val_loss: -0.3328 - val_acc: 0.3273\n",
            "Epoch 9/20\n",
            "100/100 [==============================] - 24s 236ms/step - loss: -0.2487 - acc: 0.3307 - val_loss: -0.2432 - val_acc: 0.3362\n",
            "Epoch 10/20\n",
            "100/100 [==============================] - 23s 235ms/step - loss: -0.3488 - acc: 0.3284 - val_loss: -0.1288 - val_acc: 0.3333\n",
            "Epoch 11/20\n",
            "100/100 [==============================] - 24s 235ms/step - loss: -0.1952 - acc: 0.3329 - val_loss: -0.4402 - val_acc: 0.3286\n",
            "Epoch 12/20\n",
            "100/100 [==============================] - 25s 250ms/step - loss: -0.2536 - acc: 0.3320 - val_loss: -0.3700 - val_acc: 0.3309\n",
            "Epoch 13/20\n",
            "100/100 [==============================] - 23s 234ms/step - loss: -0.2364 - acc: 0.3322 - val_loss: -0.1610 - val_acc: 0.3300\n",
            "Epoch 14/20\n",
            "100/100 [==============================] - 24s 237ms/step - loss: -0.3274 - acc: 0.3303 - val_loss: -0.2326 - val_acc: 0.3342\n",
            "Epoch 15/20\n",
            "100/100 [==============================] - 23s 234ms/step - loss: -0.2559 - acc: 0.3311 - val_loss: -0.3113 - val_acc: 0.3286\n",
            "Epoch 16/20\n",
            "100/100 [==============================] - 24s 236ms/step - loss: -0.2926 - acc: 0.3331 - val_loss: -0.3172 - val_acc: 0.3369\n",
            "Epoch 17/20\n",
            "100/100 [==============================] - 24s 238ms/step - loss: -0.2441 - acc: 0.3298 - val_loss: -0.3757 - val_acc: 0.3300\n",
            "Epoch 18/20\n",
            "100/100 [==============================] - 23s 234ms/step - loss: -0.2283 - acc: 0.3315 - val_loss: -0.2643 - val_acc: 0.3282\n",
            "Epoch 19/20\n",
            "100/100 [==============================] - 24s 236ms/step - loss: -0.2858 - acc: 0.3365 - val_loss: -0.4294 - val_acc: 0.3320\n",
            "Epoch 20/20\n",
            "100/100 [==============================] - 24s 235ms/step - loss: -0.3895 - acc: 0.3288 - val_loss: -0.1586 - val_acc: 0.3309\n"
          ],
          "name": "stdout"
        }
      ]
    }
  ]
}